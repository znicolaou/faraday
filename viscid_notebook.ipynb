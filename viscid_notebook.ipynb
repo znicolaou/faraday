{
 "cells": [
  {
   "cell_type": "code",
   "execution_count": 1,
   "metadata": {},
   "outputs": [],
   "source": [
    "import numpy as np\n",
    "from scipy.special import iv\n",
    "import timeit\n",
    "import viscid \n",
    "import imp\n",
    "from scipy.linalg import eig\n",
    "import matplotlib.pyplot as plt"
   ]
  },
  {
   "cell_type": "code",
   "execution_count": 13,
   "metadata": {
    "scrolled": true
   },
   "outputs": [
    {
     "data": {
      "text/plain": [
       "<module 'viscid' from '/Users/zack/Desktop/shaker_docs/faraday/viscid.py'>"
      ]
     },
     "execution_count": 13,
     "metadata": {},
     "output_type": "execute_result"
    }
   ],
   "source": [
    "#If you edit viscid while the kernel is running, run this to reload the package\n",
    "imp.reload(viscid)"
   ]
  },
  {
   "cell_type": "code",
   "execution_count": 14,
   "metadata": {},
   "outputs": [],
   "source": [
    "args=viscid.args"
   ]
  },
  {
   "cell_type": "code",
   "execution_count": 15,
   "metadata": {},
   "outputs": [],
   "source": [
    "#Focus on a specific wavenumber corresponding to half the substrate periodicity\n",
    "args.kx=0\n",
    "args.ky=args.k2y/2\n",
    "q=(args.kx**2+args.ky**2)**0.5\n",
    "omega=(q*np.tanh(q*args.h0)*(args.g+args.sigma*q**2))**0.5\n",
    "viscid.args.freq=2*omega/(2*np.pi)"
   ]
  },
  {
   "cell_type": "code",
   "execution_count": 17,
   "metadata": {},
   "outputs": [],
   "source": [
    "args.kx=args.k2y/2\n",
    "args.dim=1\n",
    "omega=2*np.pi*args.freq/2\n",
    "F,G=viscid.viscid_boundary(omega/2,args)"
   ]
  },
  {
   "cell_type": "code",
   "execution_count": 19,
   "metadata": {},
   "outputs": [
    {
     "data": {
      "text/plain": [
       "(2, 2, 11, 11, 11, 11)"
      ]
     },
     "execution_count": 19,
     "metadata": {},
     "output_type": "execute_result"
    }
   ],
   "source": [
    "G.shape"
   ]
  },
  {
   "cell_type": "markdown",
   "metadata": {},
   "source": [
    "### Dispersion relation for the inviscid problem in Sec. III. The notes Sec. IV describe continuation to the viscid problem starting from the inviscid dispersion, but I haven't been able to do that yet. Instead, below, I continue starting from the instability boundary described in Sec. V, starting with a flat substrate and changing As and ad in turn."
   ]
  },
  {
   "cell_type": "code",
   "execution_count": 5,
   "metadata": {},
   "outputs": [
    {
     "name": "stdout",
     "output_type": "stream",
     "text": [
      "0.7766339380000007\n",
      "0.7361933080000007\n",
      "0.7566296970000002\n"
     ]
    }
   ],
   "source": [
    "num=50\n",
    "\n",
    "start=timeit.default_timer()\n",
    "ks=np.arange(1,num)/num*args.k2y/2\n",
    "evalssweep1=[]\n",
    "for k in ks:\n",
    "    args.ky=k\n",
    "    F,G=viscid.inviscid_mat(args)\n",
    "    Fflattened=np.transpose(F[0,0],(0,2,1,3)).reshape(((2*args.Nx+1)*(2*args.Ny+1),(2*args.Nx+1)*(2*args.Ny+1)))\n",
    "    Gflattened=np.transpose(G[0,0],(0,2,1,3)).reshape(((2*args.Nx+1)*(2*args.Ny+1),(2*args.Nx+1)*(2*args.Ny+1)))\n",
    "    evals,evecs=eig(Fflattened,Gflattened)\n",
    "    evalssweep1=evalssweep1+[evals]\n",
    "stop=timeit.default_timer()\n",
    "print(stop-start)\n",
    "\n",
    "start=timeit.default_timer()\n",
    "kxs2=args.k2x/2+np.arange(1,num)/num*((2*args.k2x + args.k1x)/3 - args.k2x/2)\n",
    "kys2=args.k2y/2+np.arange(1,num)/num*((2*args.k2y + args.k1y)/3 - args.k2y/2)\n",
    "evalssweep2=[]\n",
    "for i in range(num-1):\n",
    "    args.kx=kxs2[i]\n",
    "    args.ky=kys2[i]\n",
    "    F,G=viscid.inviscid_mat(args)\n",
    "    Fflattened=np.transpose(F[0,0],(0,2,1,3)).reshape(((2*args.Nx+1)*(2*args.Ny+1),(2*args.Nx+1)*(2*args.Ny+1)))\n",
    "    Gflattened=np.transpose(G[0,0],(0,2,1,3)).reshape(((2*args.Nx+1)*(2*args.Ny+1),(2*args.Nx+1)*(2*args.Ny+1)))\n",
    "    evals,evecs=eig(Fflattened,Gflattened)\n",
    "    evalssweep2=evalssweep2+[evals]\n",
    "stop=timeit.default_timer()\n",
    "print(stop-start)\n",
    "\n",
    "start=timeit.default_timer()\n",
    "kxs3=np.arange(1,num)/num*((2*args.k2x + args.k1x)/3)\n",
    "kys3=np.arange(1,num)/num*((2*args.k2y + args.k1y)/3)\n",
    "evalssweep3=[]\n",
    "for i in range(num-1):\n",
    "    args.kx=kxs3[i]\n",
    "    args.ky=kys3[i]\n",
    "    F,G=viscid.inviscid_mat(args)\n",
    "    Fflattened=np.transpose(F[0,0],(0,2,1,3)).reshape(((2*args.Nx+1)*(2*args.Ny+1),(2*args.Nx+1)*(2*args.Ny+1)))\n",
    "    Gflattened=np.transpose(G[0,0],(0,2,1,3)).reshape(((2*args.Nx+1)*(2*args.Ny+1),(2*args.Nx+1)*(2*args.Ny+1)))\n",
    "    evals,evecs=eig(Fflattened,Gflattened)\n",
    "    evalssweep3=evalssweep3+[evals]\n",
    "stop=timeit.default_timer()\n",
    "print(stop-start)"
   ]
  },
  {
   "cell_type": "code",
   "execution_count": 6,
   "metadata": {},
   "outputs": [
    {
     "data": {
      "image/png": "[encoded data removed]",
      "text/plain": [
       "<Figure size 432x288 with 1 Axes>"
      ]
     },
     "metadata": {
      "needs_background": "light"
     },
     "output_type": "display_data"
    }
   ],
   "source": [
    "vals1=np.sort(np.abs(np.imag(np.array(evalssweep1)**0.5/(2*np.pi))),axis=1)\n",
    "vals2=np.sort(np.abs(np.imag(np.array(evalssweep2)**0.5/(2*np.pi))),axis=1)\n",
    "vals3=np.flip(np.sort(np.abs(np.imag(np.array(evalssweep3)**0.5/(2*np.pi))),axis=1),axis=0)\n",
    "\n",
    "plt.ylim(0,5)\n",
    "plt.plot(np.concatenate([vals1,vals2,vals3]))\n",
    "plt.xlabel('$k$')\n",
    "plt.ylabel('$f$')           \n",
    "plt.show()"
   ]
  },
  {
   "cell_type": "code",
   "execution_count": 6,
   "metadata": {},
   "outputs": [
    {
     "name": "stdout",
     "output_type": "stream",
     "text": [
      "6.202146000515097e-10\n",
      "1.0685336807731937e-09\n",
      "1.0685185190439117e-09\n",
      "6.202076616741489e-10\n"
     ]
    }
   ],
   "source": [
    "args.kx=0\n",
    "args.ky=args.k2y/2\n",
    "\n",
    "F,G=viscid.inviscid_mat(args)\n",
    "Fflattened=np.transpose(F[0,0],(0,2,1,3)).reshape(((2*args.Nx+1)*(2*args.Ny+1),(2*args.Nx+1)*(2*args.Ny+1)))\n",
    "Gflattened=np.transpose(G[0,0],(0,2,1,3)).reshape(((2*args.Nx+1)*(2*args.Ny+1),(2*args.Nx+1)*(2*args.Ny+1)))\n",
    "evals,levecs,revecs=eig(Fflattened,Gflattened,left=True)\n",
    "\n",
    "ind=np.argmin((-evals)**0.5)+1\n",
    "\n",
    "print(np.linalg.norm(levecs[:,ind]@Fflattened-evals[ind]*levecs[:,ind]@Gflattened))\n",
    "print(np.linalg.norm(Fflattened@revecs[:,ind]-evals[ind]*Gflattened@revecs[:,ind]))\n",
    "\n",
    "\n",
    "v0_inviscid=revecs[:,ind].reshape(((2*args.Nx+1),(2*args.Ny+1)))\n",
    "w0_inviscid=np.conjugate(levecs[:,ind].reshape(((2*args.Nx+1),(2*args.Ny+1))))\n",
    "\n",
    "print(np.linalg.norm(np.einsum(\"mMnN,MN\",F[0,0],v0_inviscid)-evals[ind]*np.einsum(\"mMnN,MN\",G[0,0],v0_inviscid)))\n",
    "print(np.linalg.norm(np.einsum(\"mMnN,mn\",F[0,0],w0_inviscid)-evals[ind]*np.einsum(\"mMnN,mn\",G[0,0],w0_inviscid)))"
   ]
  },
  {
   "cell_type": "code",
   "execution_count": 7,
   "metadata": {},
   "outputs": [
    {
     "data": {
      "text/plain": [
       "63"
      ]
     },
     "execution_count": 7,
     "metadata": {},
     "output_type": "execute_result"
    }
   ],
   "source": [
    "np.argmin((-evals)**0.5)+1"
   ]
  },
  {
   "cell_type": "code",
   "execution_count": 10,
   "metadata": {},
   "outputs": [
    {
     "data": {
      "text/plain": [
       "array([62, 63, 64, 65])"
      ]
     },
     "execution_count": 10,
     "metadata": {},
     "output_type": "execute_result"
    }
   ],
   "source": [
    "np.argsort((-evals))[:4]"
   ]
  },
  {
   "cell_type": "markdown",
   "metadata": {},
   "source": [
    "### Viscid instability boundary for flat substrate"
   ]
  },
  {
   "cell_type": "code",
   "execution_count": 8,
   "metadata": {},
   "outputs": [
    {
     "data": {
      "image/png": "[encoded data removed]",
      "text/plain": [
       "<Figure size 432x288 with 1 Axes>"
      ]
     },
     "metadata": {
      "needs_background": "light"
     },
     "output_type": "display_data"
    }
   ],
   "source": [
    "args.kx=0\n",
    "args.ky=args.k2y/2\n",
    "omega=2*np.pi*args.freq/2\n",
    "\n",
    "evalssweep=[]\n",
    "omegas=np.linspace(2*np.pi*2, 2*np.pi*10, 100)\n",
    "for omega in omegas:\n",
    "    viscid.args.freq=omega/(2*np.pi)\n",
    "    Ftilde_0,Gtilde_0=viscid.viscid_flat_boundary(omega/2,args)\n",
    "    Ftildeflattened_0=np.transpose(Ftilde_0,(0,2,1,3)).reshape((3*(2*args.Nt+1),3*(2*args.Nt+1)))\n",
    "    Gtildeflattened_0=np.transpose(Gtilde_0,(0,2,1,3)).reshape((3*(2*args.Nt+1),3*(2*args.Nt+1)))\n",
    "    evals,levecs,revecs=eig(Ftildeflattened_0,Gtildeflattened_0,left=True)\n",
    "    evalssweep=evalssweep+[evals]\n",
    "viscid.args.freq=2*(q*np.tanh(q*args.h0)*(args.g+args.sigma*q**2))**0.5/(2*np.pi)\n",
    "plt.plot(omegas/(2*np.pi),np.real(evalssweep)/args.g,'bo')\n",
    "plt.ylim(0,3)\n",
    "plt.xlabel(r'$\\omega_d$')\n",
    "plt.ylabel('$a_d$')\n",
    "plt.show()\n"
   ]
  },
  {
   "cell_type": "markdown",
   "metadata": {},
   "source": [
    "### Continue the flat viscid instability boundary to the sinusoidal viscid instability boundary, As=0 to As=0.05"
   ]
  },
  {
   "cell_type": "code",
   "execution_count": 9,
   "metadata": {},
   "outputs": [
    {
     "name": "stdout",
     "output_type": "stream",
     "text": [
      "4.444532364360808e-14 5.610044483985782e-16 (407.77882050082826-2.065274783480644e-14j)\n",
      "0.8500876918116247 0.008705073926304017 (407.7788205008283-1.563342137980205e-12j)\n",
      "0.05652196426419497 0.0007419699138940009 (337.49169841891364+3.389680553544659e-10j)\n",
      "6.639346753407486e-06 8.758350655118355e-08 (330.37004669745176-2.4192660172893576e-11j)\n",
      "convergence\n",
      "6.526256816739376e-09 1.3631939313809846e-10 (330.3692042645837-2.7053169490052313e-11j)\n",
      "15.962798679\n"
     ]
    }
   ],
   "source": [
    "from scipy.linalg import solve\n",
    "from scipy.linalg import LinAlgWarning\n",
    "import warnings\n",
    "warnings.filterwarnings(\"error\",category=LinAlgWarning)\n",
    "\n",
    "start=timeit.default_timer()\n",
    "viscid.args.freq=2*(q*np.tanh(q*args.h0)*(args.g+args.sigma*q**2))**0.5/(2*np.pi)\n",
    "\n",
    "omega=2*np.pi*viscid.args.freq/2\n",
    "Ftilde_0,Gtilde_0=viscid.viscid_flat_mat(omega,qx,qy)\n",
    "Ftildeflattened_0=np.transpose(Ftilde_0,(0,2,1,3)).reshape((3*(2*args.Nt+1),3*(2*args.Nt+1)))\n",
    "Gtildeflattened_0=np.transpose(Gtilde_0,(0,2,1,3)).reshape((3*(2*args.Nt+1),3*(2*args.Nt+1)))\n",
    "evals,levecs,revecs=eig(Ftildeflattened_0,Gtildeflattened_0,left=True)\n",
    "v0=revecs[:,~np.isinf(evals)][:,-1].reshape((3,(2*args.Nt+1)))\n",
    "w0=np.conjugate(levecs[:,~np.isinf(evals)][:,-1].reshape((3,(2*args.Nt+1))))\n",
    "e1=np.linalg.norm(np.einsum(\"kKlL,KL\",Ftilde_0,v0)-evals[~np.isinf(evals)][-1]*np.einsum(\"kKlL,KL\",Gtilde_0,v0))\n",
    "e2=np.linalg.norm(np.einsum(\"kKlL,kl\",Ftilde_0,w0)-evals[~np.isinf(evals)][-1]*np.einsum(\"kKlL,kl\",Gtilde_0,w0))\n",
    "print(e1,e2,(np.einsum(\"kKlL,KL,kl\",Ftilde_0,v0,w0)/np.einsum(\"kKlL,KL,kl\",Gtilde_0,v0,w0)))\n",
    "\n",
    "Ftilde,Gtilde=viscid.viscid_mat2(omega,qx,qy)\n",
    "\n",
    "v=np.zeros((3,(2*args.Nt+1),(2*args.Nx+1),(2*args.Ny+1)),dtype=np.complex128)\n",
    "w=np.zeros((3,(2*args.Nt+1),(2*args.Nx+1),(2*args.Ny+1)),dtype=np.complex128)\n",
    "v[:,:,args.Nx,args.Ny]=v0\n",
    "w[:,:,args.Nx,args.Ny]=w0\n",
    "\n",
    "for i in range(10):\n",
    "    lam=(np.einsum(\"kKlLmMnN,KLMN,klmn\",Ftilde,v,w)/np.einsum(\"kKlLmMnN,KLMN,klmn\",Gtilde,v,w))\n",
    "    flat=np.transpose(lam*Gtilde-Ftilde,(0,2,4,6,1,3,5,7)).reshape((3*(2*args.Nt+1)*(2*args.Nx+1)*(2*args.Ny+1),3*(2*args.Nt+1)*(2*args.Nx+1)*(2*args.Ny+1)))\n",
    "    try:\n",
    "        xi=solve(flat, np.einsum(\"kKlLmMnN,KLMN\",Gtilde,v).reshape(3*(2*args.Nt+1)*(2*args.Nx+1)*(2*args.Ny+1))).reshape(3,(2*args.Nt+1),(2*args.Nx+1),(2*args.Ny+1))\n",
    "        zeta=solve(flat.T, np.einsum(\"kKlLmMnN,klmn\",Gtilde,w).reshape(3*(2*args.Nt+1)*(2*args.Nx+1)*(2*args.Ny+1))).reshape(3,(2*args.Nt+1),(2*args.Nx+1),(2*args.Ny+1))\n",
    "        v=xi/np.linalg.norm(xi)\n",
    "        w=zeta/np.linalg.norm(zeta)\n",
    "    except LinAlgWarning:\n",
    "        print('convergence')\n",
    "        lam=(np.einsum(\"kKlLmMnN,KLMN,klmn\",Ftilde,v,w)/np.einsum(\"kKlLmMnN,KLMN,klmn\",Gtilde,v,w))\n",
    "        e1=np.linalg.norm(np.einsum(\"kKlLmMnN,KLMN\",Ftilde,v)-lam*np.einsum(\"kKlLmMnN,KLMN\",Gtilde,v))\n",
    "        e2=np.linalg.norm(np.einsum(\"kKlLmMnN,klmn\",Ftilde,w)-lam*np.einsum(\"kKlLmMnN,klmn\",Gtilde,w))\n",
    "        print(e1,e2,lam,flush=True)\n",
    "        break\n",
    "\n",
    "    e1=np.linalg.norm(np.einsum(\"kKlLmMnN,KLMN\",Ftilde,v)-lam*np.einsum(\"kKlLmMnN,KLMN\",Gtilde,v))\n",
    "    e2=np.linalg.norm(np.einsum(\"kKlLmMnN,klmn\",Ftilde,w)-lam*np.einsum(\"kKlLmMnN,klmn\",Gtilde,w))\n",
    "    print(e1,e2,lam,flush=True)\n",
    "stop=timeit.default_timer()\n",
    "print(stop-start)"
   ]
  },
  {
   "cell_type": "markdown",
   "metadata": {},
   "source": [
    "### Continue the instability boundary mode to the undriven mode, ad=330 to ad=0"
   ]
  },
  {
   "cell_type": "code",
   "execution_count": 10,
   "metadata": {},
   "outputs": [
    {
     "name": "stdout",
     "output_type": "stream",
     "text": [
      "(-5.402075050290822e-18-2.3253965669697706e-16j)\n",
      "15.871765605769195 (0.0002846642277922215-1.4508557545652755e-12j)\n",
      "(15.871877480119212+0.13324434269642263j) (-2.2947922018868736e-06-2.4428870668828594e-07j)\n",
      "(15.871767816292024+0.13430312954709042j) (9.86377948562846e-09+2.8305672066908386e-09j)\n",
      "(15.87176561018604+0.13430732353899957j) (-6.9527604740264535e-12-8.159471785794652e-12j)\n",
      "convergence\n",
      "297.3322838381253 3 (15.871765605766985+0.1343073213078293j) (-6.9527604740264535e-12-8.159471785794652e-12j)\n",
      "(15.871765605766985+0.1343073213078293j) (-0.00011332851330538246+0.00027070143648082445j)\n",
      "(15.8718997445334+0.2698455042241481j) (1.5496730724171389e-06-2.93528353466037e-06j)\n",
      "(15.871769145600405+0.27136218127910505j) (-1.1422372601596814e-08+1.5330619324235028e-08j)\n",
      "(15.871765615804355+0.2713702253964869j) (2.3235063598973465e-11-4.7389404703844665e-12j)\n",
      "convergence\n",
      "264.2953634116669 3 (15.87176560576414+0.2713702211635633j) (2.3235063598973465e-11-4.7389404703844665e-12j)\n",
      "(15.87176560576414+0.2713702211635633j) (-0.0001709381900108542-0.0002491001397868367j)\n",
      "(15.871929847375876+0.4101918652364372j) (2.554454157086581e-06+4.36347415212079e-06j)\n",
      "(15.871771843758555+0.4125221953827331j) (-1.5473810072466275e-08-3.715880599784748e-08j)\n",
      "(15.871765632427458+0.41253978753333775j) (-2.8274362506693485e-11+5.3765488805340445e-11j)\n",
      "convergence\n",
      "231.25844298520855 3 (15.871765605756067+0.4125397785117626j) (-2.8274362506693485e-11+5.3765488805340445e-11j)\n",
      "(15.871765605756067+0.4125397785117626j) (0.0003067400655570829+4.8390016718593675e-05j)\n",
      "(15.871973939991422+0.5564610421053546j) (-8.148337050240107e-06-1.7443974153769225e-06j)\n",
      "(15.871778314137893+0.5604252831633224j) (9.666666045268477e-08+3.2321131818367474e-08j)\n",
      "(15.871765696575322+0.5604725145620496j) (-4.159029629058136e-11-1.9079916912060447e-10j)\n",
      "convergence\n",
      "198.22152255875017 3 (15.871765605727266+0.5604724917638091j) (-4.159029629058136e-11-1.9079916912060447e-10j)\n",
      "(15.871765605727266+0.5604724917638091j) (-0.00028522538393714646+0.00014216766341842554j)\n",
      "(15.87204743123144+0.7133030389161656j) (1.4085825073781321e-05-6.365422311600995e-06j)\n",
      "(15.8717988869365+0.7212837884421349j) (-3.334987919012379e-07+1.1889083187074967e-07j)\n",
      "(15.87176609593307+0.7214672274522056j) (6.30040627665172e-10+6.98372246474636e-10j)\n",
      "(15.87176560559715+0.7214671587594254j) (-1.286567624769792e-12+2.0997450254940374e-12j)\n",
      "convergence\n",
      "165.1846021322918 4 (15.871765605765834+0.7214671574741386j) (-1.286567624769792e-12+2.0997450254940374e-12j)\n",
      "(15.871765605765834+0.7214671574741386j) (0.0001321697009310187-0.00029868027195447636j)\n",
      "(15.872203602385728+0.8933387939759578j) (-1.5035528346612088e-05+3.196938621427254e-05j)\n",
      "(15.871919462135368+0.9163314825125632j) (1.145096534016041e-06-2.178679540842615e-06j)\n",
      "(15.871774482145826+0.9180792824405684j) (-1.297902166844312e-08+1.0208022773290756e-09j)\n",
      "(15.87176561933417+0.9180821563163473j) (3.10416612315773e-11-5.192152534693279e-11j)\n",
      "convergence\n",
      "132.1476817058334 4 (15.871765605579604+0.9180821152670054j) (3.10416612315773e-11-5.192152534693279e-11j)\n",
      "(15.871765605579604+0.9180821152670054j) (-0.0002530904203173651+0.00021897756255194196j)\n",
      "(15.872848883600438+1.1574124151155707j) (0.00010589107024383318-8.984377943334377e-05j)\n",
      "(15.899738911906052+1.6554958998029983j) (-0.00045535677194342186+0.00035791998529464817j)\n",
      "(15.894946143305715+1.4397139806523402j) (0.00027407391327619393-0.0001941466790021199j)\n",
      "(15.89122626724694+1.2053176371312282j) (-0.00012126162522135374+6.492687527483328e-05j)\n",
      "(16.137637084534493+0.7707409368512834j) (0.00042628436620592043-0.00039093821369924766j)\n",
      "(16.070712060182938+0.9844082722493337j) (-5.129507247538525e-05+0.0002672418560413218j)\n",
      "(16.015670206202746+1.1478342863174196j) (-6.852290545076259e-05-3.613425521515005e-05j)\n",
      "(16.073005883897977+1.1989098020167945j) (1.8725372409483793e-05+5.144140010003239e-06j)\n",
      "(16.073204489071518+1.184093298813529j) (-1.61205206481109e-07-7.329877708857132e-07j)\n",
      "(16.073743326361864+1.1838823892655126j) (1.9198394337847587e-09-3.0509958496729657e-09j)\n",
      "(16.073745939502068+1.183881462503042j) (2.0933522575321477e-11-7.099211187958532e-12j)\n",
      "convergence\n",
      "99.11076127937504 11 (16.07374595552893+1.1838814568291116j) (2.0933522575321477e-11-7.099211187958532e-12j)\n",
      "(16.07374595552893+1.1838814568291116j) (0.0003056167300101316+4.093232068366558e-06j)\n",
      "(16.30890976791045+1.184153278776496j) (-0.00021252183431207496-3.2123848131190465e-06j)\n",
      "(16.2246671872784+1.1839205506930321j) (-1.3307938514410799e-05-1.3455516198881076e-07j)\n",
      "(16.218910629829416+1.1839013549583524j) (-2.114231575635127e-07-1.5061604856274271e-09j)\n",
      "(16.21881805218633+1.183900694416812j) (-7.81264826229031e-10+5.286358140950467e-12j)\n",
      "convergence\n",
      "66.07384085291667 4 (16.21881771004535+1.1839006918453312j) (-7.81264826229031e-10+5.286358140950467e-12j)\n",
      "(16.21881771004535+1.1839006918453312j) (0.00020890329965434317-2.948789350221352e-06j)\n",
      "(16.31033118489905+1.1839538425477276j) (-7.772952949070492e-05+1.048833169449138e-06j)\n",
      "(16.28224598897519+1.1839132201152416j) (-7.894723256007794e-07+1.1606298775894904e-08j)\n",
      "(16.28195789956681+1.1839123088835781j) (-3.0325675830318026e-09+6.167562493635219e-11j)\n",
      "(16.28195679245595+1.1839123046115516j) (-9.340402582365425e-12+2.606386264187199e-13j)\n",
      "convergence\n",
      "33.03692042645831 4 (16.281956789045392+1.1839123045978621j) (-9.340402582365425e-12+2.606386264187199e-13j)\n",
      "(16.281956789045392+1.1839123045978621j) (0.0001060838259422532-3.3652392888862266e-06j)\n",
      "(16.32070078236453+1.183926808964172j) (-5.672630121938016e-05+1.8086812522839577e-06j)\n",
      "(16.301027289398363+1.1839162940080956j) (-2.2702814615492435e-07+7.298864426678983e-09j)\n",
      "(16.300948463228092+1.1839161881506108j) (-6.827942678026057e-10+2.3911700726874016e-11j)\n",
      "(16.300948226129712+1.1839161878757345j) (-2.0141556540567533e-12+7.494968492680835e-14j)\n",
      "convergence\n",
      "-5.684341886080802e-14 4 (16.300948225430247+1.1839161878748323j) (-2.0141556540567533e-12+7.494968492680835e-14j)\n",
      "293.802070996\n"
     ]
    }
   ],
   "source": [
    "start=timeit.default_timer()\n",
    "domega_fd=0.1\n",
    "\n",
    "viscid.args.ad=np.real(lam)\n",
    "dad=-np.real(lam)/10\n",
    "\n",
    "E0=viscid.viscid_mat(omega,qx,qy)\n",
    "print(np.einsum(\"kKlLmMnN,KLMN,klmn\",E0,v,w))\n",
    "\n",
    "vn=v\n",
    "wn=w\n",
    "\n",
    "itmax=100\n",
    "omegas=[]\n",
    "ads=[]\n",
    "vns=[]\n",
    "wns=[]\n",
    "while viscid.args.ad/np.real(lam)>0:\n",
    "    viscid.args.ad += dad\n",
    "    for i in range(itmax):\n",
    "        E_new=viscid.viscid_mat(omega,qx,qy)\n",
    "        print(omega, np.einsum(\"kKlLmMnN,KLMN,klmn\",E_new,vn,wn))\n",
    "        dE=(viscid.viscid_mat(omega+domega_fd,qx,qy)-E_new)/domega_fd\n",
    "        flat=np.transpose(E_new,(0,2,4,6,1,3,5,7)).reshape((3*(2*args.Nt+1)*(2*args.Nx+1)*(2*args.Ny+1),3*(2*args.Nt+1)*(2*args.Nx+1)*(2*args.Ny+1)))\n",
    "        dflat=np.transpose(dE,(0,2,4,6,1,3,5,7)).reshape((3*(2*args.Nt+1)*(2*args.Nx+1)*(2*args.Ny+1),3*(2*args.Nt+1)*(2*args.Nx+1)*(2*args.Ny+1)))\n",
    "        try:\n",
    "            xi=solve(flat, np.einsum(\"kKlLmMnN,KLMN\",dE,vn).reshape(3*(2*args.Nt+1)*(2*args.Nx+1)*(2*args.Ny+1))).reshape(3,(2*args.Nt+1),(2*args.Nx+1),(2*args.Ny+1))\n",
    "            zeta=solve(flat.T, np.einsum(\"kKlLmMnN,klmn\",dE,wn).reshape(3*(2*args.Nt+1)*(2*args.Nx+1)*(2*args.Ny+1))).reshape(3,(2*args.Nt+1),(2*args.Nx+1),(2*args.Ny+1))\n",
    "            domega=-np.einsum(\"kKlLmMnN,KLMN,klmn\",E_new,vn,wn)/np.einsum(\"kKlLmMnN,KLMN,klmn\",dE,vn,wn)\n",
    "            omega=omega+domega\n",
    "            vn=xi/np.linalg.norm(xi)\n",
    "            wn=zeta/np.linalg.norm(zeta)\n",
    "        except LinAlgWarning:\n",
    "            print('convergence')\n",
    "            domega=-np.einsum(\"kKlLmMnN,KLMN,klmn\",E_new,vn,wn)/np.einsum(\"kKlLmMnN,KLMN,klmn\",dE,vn,wn)\n",
    "            omega=omega+domega\n",
    "            omegas=omegas+[omega]\n",
    "            ads=ads+[viscid.args.ad]\n",
    "            vns=vns+[vn]\n",
    "            wns=wns+[wn]\n",
    "            print(viscid.args.ad,i,omega, np.einsum(\"kKlLmMnN,KLMN,klmn\",E_new,vn,wn))\n",
    "            break\n",
    "\n",
    "stop=timeit.default_timer()\n",
    "print(stop-start)"
   ]
  },
  {
   "cell_type": "markdown",
   "metadata": {},
   "source": [
    "#### The eigenvalue initially increasese in imaginary component (damping) before colliding with another (undetected, conjugate) mode and then increases in the real component. This is the resonance phenomena with the comlex conjugate mode, leading to the subharmonic response."
   ]
  },
  {
   "cell_type": "code",
   "execution_count": 11,
   "metadata": {},
   "outputs": [
    {
     "data": {
      "text/plain": [
       "[<matplotlib.lines.Line2D at 0x7fc2f4151890>]"
      ]
     },
     "execution_count": 11,
     "metadata": {},
     "output_type": "execute_result"
    },
    {
     "data": {
      "image/png": "[encoded data removed]",
      "text/plain": [
       "<Figure size 432x288 with 1 Axes>"
      ]
     },
     "metadata": {
      "needs_background": "light"
     },
     "output_type": "display_data"
    }
   ],
   "source": [
    "plt.plot(np.real(omegas),np.imag(omegas),'bo')"
   ]
  },
  {
   "cell_type": "markdown",
   "metadata": {},
   "source": [
    "#### Compare the eigenvectors for the undriven viscid and inviscid solutions. They are similar, up to a complex factor."
   ]
  },
  {
   "cell_type": "code",
   "execution_count": 12,
   "metadata": {},
   "outputs": [
    {
     "data": {
      "image/png": "[encoded data removed]",
      "text/plain": [
       "<Figure size 432x288 with 2 Axes>"
      ]
     },
     "metadata": {
      "needs_background": "light"
     },
     "output_type": "display_data"
    },
    {
     "data": {
      "image/png": "[encoded data removed]",
      "text/plain": [
       "<Figure size 432x288 with 2 Axes>"
      ]
     },
     "metadata": {
      "needs_background": "light"
     },
     "output_type": "display_data"
    }
   ],
   "source": [
    "plt.imshow(np.abs(vns[2][2,args.Nt]).T)\n",
    "plt.colorbar()\n",
    "plt.show()\n",
    "plt.imshow(np.abs(v0_inviscid).T)\n",
    "plt.colorbar()\n",
    "plt.show()"
   ]
  },
  {
   "cell_type": "markdown",
   "metadata": {},
   "source": [
    "### Continue inviscid mode to the viscid one instead"
   ]
  },
  {
   "cell_type": "code",
   "execution_count": 15,
   "metadata": {},
   "outputs": [
    {
     "data": {
      "text/plain": [
       "<module 'viscid' from '/Users/zack/Desktop/shaker_docs/faraday/viscid.py'>"
      ]
     },
     "execution_count": 15,
     "metadata": {},
     "output_type": "execute_result"
    }
   ],
   "source": [
    "imp.reload(viscid)"
   ]
  },
  {
   "cell_type": "code",
   "execution_count": 14,
   "metadata": {},
   "outputs": [
    {
     "name": "stdout",
     "output_type": "stream",
     "text": [
      "0 0.05 0.1 1 20 0.005 980 2\n",
      "63 (-298.9937927425745+0j)\n",
      "(17.291436977376243+0j) (-0.049058451351176674-1.7727713506632088j)\n"
     ]
    }
   ],
   "source": [
    "from scipy.linalg import solve\n",
    "from scipy.linalg import LinAlgWarning\n",
    "import warnings\n",
    "warnings.filterwarnings(\"error\",category=LinAlgWarning)\n",
    "\n",
    "viscid.args.freq=5\n",
    "viscid.args.ad=0\n",
    "\n",
    "F,G=viscid.inviscid_mat(args)\n",
    "Fflattened=np.transpose(F[0,0],(0,2,1,3)).reshape(((2*args.Nx+1)*(2*args.Ny+1),(2*args.Nx+1)*(2*args.Ny+1)))\n",
    "Gflattened=np.transpose(G[0,0],(0,2,1,3)).reshape(((2*args.Nx+1)*(2*args.Ny+1),(2*args.Nx+1)*(2*args.Ny+1)))\n",
    "evals,levecs,revecs=eig(Fflattened,Gflattened,left=True)\n",
    "\n",
    "ind=np.argmin((-evals)**0.5)+1\n",
    "print(ind,evals[ind])\n",
    "v0_inviscid=revecs[:,ind].reshape(((2*args.Nx+1),(2*args.Ny+1)))\n",
    "w0_inviscid=np.conjugate(levecs[:,ind].reshape(((2*args.Nx+1),(2*args.Ny+1))))\n",
    "omega_inviscid=(-evals[ind])**0.5\n",
    "\n",
    "args.mu=0.005\n",
    "E=viscid.viscid_mat(omega_inviscid,args)\n",
    "\n",
    "v=np.zeros((3,(2*args.Nt+1),(2*args.Nx+1),(2*args.Ny+1)),dtype=np.complex128)\n",
    "w=np.zeros((3,(2*args.Nt+1),(2*args.Nx+1),(2*args.Ny+1)),dtype=np.complex128)\n",
    "v[2,args.Nt]=v0_inviscid\n",
    "w[2,args.Nt]=w0_inviscid\n",
    "print(omega_inviscid,np.einsum(\"kKlLmMnN,KLMN,klmn\",E,v,w))"
   ]
  },
  {
   "cell_type": "code",
   "execution_count": 18,
   "metadata": {
    "scrolled": true
   },
   "outputs": [
    {
     "name": "stdout",
     "output_type": "stream",
     "text": [
      "4.574682658493487 0.027877988104101872 (16.323792476656177+0.028195211995869274j)\n",
      "2.8553231426661094 0.020004570045683786 (15.479331930622424+1.2328436780383987j)\n",
      "0.12383143167113762 0.0008596369874377643 (15.442314004083395+1.183376009675183j)\n",
      "0.0012197917739877975 8.519926473412771e-06 (15.442583785694245+1.1839177456193342j)\n",
      "3.539329750954373e-06 2.4722231140968734e-08 (15.442582983770482+1.1839161833044662j)\n",
      "convergence\n",
      "1.1385720400898464e-08 2.040963932569154e-10 (15.44258298846363+1.1839161924720165j)\n",
      "32.260735679999925\n"
     ]
    }
   ],
   "source": [
    "start=timeit.default_timer()\n",
    "\n",
    "domega=1e-1\n",
    "omega=omega_inviscid\n",
    "itmax=100\n",
    "for i in range(itmax):\n",
    "    E=viscid.viscid_mat(omega,args)\n",
    "    dE=(viscid.viscid_mat(omega+domega,args)-E)/domega\n",
    "    omega=omega-np.einsum(\"kKlLmMnN,KLMN,klmn\",E,v,w)/np.einsum(\"kKlLmMnN,KLMN,klmn\",dE,v,w)\n",
    "    flat=np.transpose(E,(0,2,4,6,1,3,5,7)).reshape((3*(2*args.Nt+1)*(2*args.Nx+1)*(2*args.Ny+1),3*(2*args.Nt+1)*(2*args.Nx+1)*(2*args.Ny+1)))\n",
    "    try:\n",
    "        xi=solve(flat, np.einsum(\"kKlLmMnN,KLMN\",dE,v).reshape(3*(2*args.Nt+1)*(2*args.Nx+1)*(2*args.Ny+1))).reshape(3,(2*args.Nt+1),(2*args.Nx+1),(2*args.Ny+1))\n",
    "        zeta=solve(flat.T, np.einsum(\"kKlLmMnN,klmn\",dE,w).reshape(3*(2*args.Nt+1)*(2*args.Nx+1)*(2*args.Ny+1))).reshape(3,(2*args.Nt+1),(2*args.Nx+1),(2*args.Ny+1))\n",
    "        v=xi/np.linalg.norm(xi)\n",
    "        w=zeta/np.linalg.norm(zeta)\n",
    "    except LinAlgWarning:\n",
    "        print('convergence')\n",
    "        omega=omega-np.einsum(\"kKlLmMnN,KLMN,klmn\",E,v,w)/np.einsum(\"kKlLmMnN,KLMN,klmn\",dE,v,w)\n",
    "        e1=np.linalg.norm(np.einsum(\"kKlLmMnN,KLMN\",E,v))\n",
    "        e2=np.linalg.norm(np.einsum(\"kKlLmMnN,klmn\",E,w))\n",
    "        print(e1,e2,omega,flush=True)\n",
    "        break\n",
    "\n",
    "    e1=np.linalg.norm(np.einsum(\"kKlLmMnN,KLMN\",E,v))\n",
    "    e2=np.linalg.norm(np.einsum(\"kKlLmMnN,klmn\",E,w))\n",
    "    print(e1,e2,omega,flush=True)\n",
    "stop=timeit.default_timer()\n",
    "print(stop-start)"
   ]
  },
  {
   "cell_type": "code",
   "execution_count": 97,
   "metadata": {},
   "outputs": [
    {
     "data": {
      "image/png": "[encoded data removed]",
      "text/plain": [
       "<Figure size 432x288 with 1 Axes>"
      ]
     },
     "metadata": {
      "needs_background": "light"
     },
     "output_type": "display_data"
    },
    {
     "data": {
      "image/png": "[encoded data removed]",
      "text/plain": [
       "<Figure size 432x288 with 1 Axes>"
      ]
     },
     "metadata": {
      "needs_background": "light"
     },
     "output_type": "display_data"
    },
    {
     "data": {
      "image/png": "[encoded data removed]",
      "text/plain": [
       "<Figure size 432x288 with 1 Axes>"
      ]
     },
     "metadata": {
      "needs_background": "light"
     },
     "output_type": "display_data"
    },
    {
     "data": {
      "image/png": "[encoded data removed]",
      "text/plain": [
       "<Figure size 432x288 with 1 Axes>"
      ]
     },
     "metadata": {
      "needs_background": "light"
     },
     "output_type": "display_data"
    },
    {
     "data": {
      "image/png": "[encoded data removed]",
      "text/plain": [
       "<Figure size 432x288 with 1 Axes>"
      ]
     },
     "metadata": {
      "needs_background": "light"
     },
     "output_type": "display_data"
    },
    {
     "data": {
      "image/png": "[encoded data removed]",
      "text/plain": [
       "<Figure size 432x288 with 1 Axes>"
      ]
     },
     "metadata": {
      "needs_background": "light"
     },
     "output_type": "display_data"
    },
    {
     "data": {
      "image/png": "[encoded data removed]",
      "text/plain": [
       "<Figure size 432x288 with 1 Axes>"
      ]
     },
     "metadata": {
      "needs_background": "light"
     },
     "output_type": "display_data"
    },
    {
     "data": {
      "image/png": "[encoded data removed]",
      "text/plain": [
       "<Figure size 432x288 with 1 Axes>"
      ]
     },
     "metadata": {
      "needs_background": "light"
     },
     "output_type": "display_data"
    },
    {
     "data": {
      "image/png": "[encoded data removed]",
      "text/plain": [
       "<Figure size 432x288 with 1 Axes>"
      ]
     },
     "metadata": {
      "needs_background": "light"
     },
     "output_type": "display_data"
    }
   ],
   "source": [
    "for i in range(1,10):\n",
    "    evals0=np.load('data/mode'+str(i)+'evals_cont0.npy')\n",
    "    plt.scatter(np.real(evals0),np.imag(evals0))\n",
    "    evals1=np.load('data/mode'+str(i)+'evals_cont1.npy')\n",
    "    plt.scatter(np.real(evals1),np.imag(evals1))\n",
    "    evals2=np.load('data/mode'+str(i)+'evals_cont2.npy')\n",
    "    plt.scatter(np.real(evals2),np.imag(evals2))\n",
    "    evals3=np.load('data/mode'+str(i)+'evals_cont3.npy')\n",
    "    plt.scatter(np.real(evals3),np.imag(evals3))\n",
    "    plt.show()"
   ]
  },
  {
   "cell_type": "code",
   "execution_count": null,
   "metadata": {},
   "outputs": [],
   "source": []
  }
 ],
 "metadata": {
  "kernelspec": {
   "display_name": "Python 3",
   "language": "python",
   "name": "python3"
  },
  "language_info": {
   "codemirror_mode": {
    "name": "ipython",
    "version": 3
   },
   "file_extension": ".py",
   "mimetype": "text/x-python",
   "name": "python",
   "nbconvert_exporter": "python",
   "pygments_lexer": "ipython3",
   "version": "3.7.6"
  }
 },
 "nbformat": 4,
 "nbformat_minor": 5
}
