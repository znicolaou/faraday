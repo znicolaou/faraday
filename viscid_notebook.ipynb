{
 "cells": [
  {
   "cell_type": "code",
   "execution_count": 1,
   "id": "c1fd631d",
   "metadata": {},
   "outputs": [],
   "source": [
    "import numpy as np\n",
    "from scipy.special import iv\n",
    "import timeit\n",
    "import viscid\n",
    "import imp\n",
    "from scipy.linalg import eig\n",
    "import matplotlib.pyplot as plt"
   ]
  },
  {
   "cell_type": "code",
   "execution_count": 2,
   "id": "d25baf95",
   "metadata": {
    "scrolled": true
   },
   "outputs": [
    {
     "data": {
      "text/plain": [
       "<module 'viscid' from '/Users/zack/Desktop/shaker_docs/faraday/viscid.py'>"
      ]
     },
     "execution_count": 2,
     "metadata": {},
     "output_type": "execute_result"
    }
   ],
   "source": [
    "#If you edit viscid while the kernel is running, run this to reload the package\n",
    "imp.reload(viscid)"
   ]
  },
  {
   "cell_type": "code",
   "execution_count": 3,
   "id": "bb9085a7",
   "metadata": {},
   "outputs": [],
   "source": [
    "args=viscid.args"
   ]
  },
  {
   "cell_type": "code",
   "execution_count": 4,
   "id": "bd5fd301",
   "metadata": {},
   "outputs": [],
   "source": [
    "#Focus on a specific wavenumber corresponding to half the substrate periodicity\n",
    "qx=0\n",
    "qy=args.k2y/2\n",
    "q=(qx**2+qy**2)**0.5\n",
    "omega=(q*np.tanh(q*args.h0)*(args.g+args.sigma*q**2))**0.5\n",
    "viscid.args.freq=2*omega/(2*np.pi)"
   ]
  },
  {
   "cell_type": "markdown",
   "id": "794dc7bd",
   "metadata": {},
   "source": [
    "### Dispersion relation for the inviscid problem in Sec. III. The notes Sec. IV describe continuation to the viscid problem starting from the inviscid dispersion, but I haven't been able to do that yet. Instead, below, I continue starting from the instability boundary described in Sec. V, starting with a flat substrate and changing As and ad in turn."
   ]
  },
  {
   "cell_type": "code",
   "execution_count": 5,
   "id": "44d95b04",
   "metadata": {},
   "outputs": [
    {
     "name": "stdout",
     "output_type": "stream",
     "text": [
      "1.0819162749999993\n",
      "1.0783632029999994\n",
      "1.0523786380000004\n"
     ]
    }
   ],
   "source": [
    "num=50\n",
    "\n",
    "start=timeit.default_timer()\n",
    "ks=np.arange(1,num)/num*args.k2y/2\n",
    "evalssweep1=[]\n",
    "for k in ks:\n",
    "    F,G=viscid.inviscid_mat(0,k)\n",
    "    Fflattened=np.transpose(F[0,0],(0,2,1,3)).reshape(((2*args.Nx+1)*(2*args.Ny+1),(2*args.Nx+1)*(2*args.Ny+1)))\n",
    "    Gflattened=np.transpose(G[0,0],(0,2,1,3)).reshape(((2*args.Nx+1)*(2*args.Ny+1),(2*args.Nx+1)*(2*args.Ny+1)))\n",
    "    evals,evecs=eig(Fflattened,Gflattened)\n",
    "    evalssweep1=evalssweep1+[evals]\n",
    "stop=timeit.default_timer()\n",
    "print(stop-start)\n",
    "\n",
    "start=timeit.default_timer()\n",
    "kxs2=args.k2x/2+np.arange(1,num)/num*((2*args.k2x + args.k1x)/3 - args.k2x/2)\n",
    "kys2=args.k2y/2+np.arange(1,num)/num*((2*args.k2y + args.k1y)/3 - args.k2y/2)\n",
    "evalssweep2=[]\n",
    "for i in range(num-1):\n",
    "    F,G=viscid.inviscid_mat(kxs2[i],kys2[i])\n",
    "    Fflattened=np.transpose(F[0,0],(0,2,1,3)).reshape(((2*args.Nx+1)*(2*args.Ny+1),(2*args.Nx+1)*(2*args.Ny+1)))\n",
    "    Gflattened=np.transpose(G[0,0],(0,2,1,3)).reshape(((2*args.Nx+1)*(2*args.Ny+1),(2*args.Nx+1)*(2*args.Ny+1)))\n",
    "    evals,evecs=eig(Fflattened,Gflattened)\n",
    "    evalssweep2=evalssweep2+[evals]\n",
    "stop=timeit.default_timer()\n",
    "print(stop-start)\n",
    "\n",
    "start=timeit.default_timer()\n",
    "kxs3=np.arange(1,num)/num*((2*args.k2x + args.k1x)/3)\n",
    "kys3=np.arange(1,num)/num*((2*args.k2y + args.k1y)/3)\n",
    "evalssweep3=[]\n",
    "for i in range(num-1):\n",
    "    F,G=viscid.inviscid_mat(kxs3[i],kys3[i])\n",
    "    Fflattened=np.transpose(F[0,0],(0,2,1,3)).reshape(((2*args.Nx+1)*(2*args.Ny+1),(2*args.Nx+1)*(2*args.Ny+1)))\n",
    "    Gflattened=np.transpose(G[0,0],(0,2,1,3)).reshape(((2*args.Nx+1)*(2*args.Ny+1),(2*args.Nx+1)*(2*args.Ny+1)))\n",
    "    evals,evecs=eig(Fflattened,Gflattened)\n",
    "    evalssweep3=evalssweep3+[evals]\n",
    "stop=timeit.default_timer()\n",
    "print(stop-start)"
   ]
  },
  {
   "cell_type": "code",
   "execution_count": 6,
   "id": "a6a09ba7",
   "metadata": {},
   "outputs": [
    {
     "data": {
      "image/png": "[encoded data removed]",
      "text/plain": [
       "<Figure size 432x288 with 1 Axes>"
      ]
     },
     "metadata": {
      "needs_background": "light"
     },
     "output_type": "display_data"
    }
   ],
   "source": [
    "vals1=np.sort(np.abs(np.imag(np.array(evalssweep1)**0.5/(2*np.pi))),axis=1)\n",
    "vals2=np.sort(np.abs(np.imag(np.array(evalssweep2)**0.5/(2*np.pi))),axis=1)\n",
    "vals3=np.flip(np.sort(np.abs(np.imag(np.array(evalssweep3)**0.5/(2*np.pi))),axis=1),axis=0)\n",
    "\n",
    "plt.ylim(0,5)\n",
    "plt.plot(np.concatenate([vals1,vals2,vals3]))\n",
    "plt.xlabel('$k$')\n",
    "plt.ylabel('$f$')           \n",
    "plt.show()"
   ]
  },
  {
   "cell_type": "code",
   "execution_count": 7,
   "id": "911b4e92",
   "metadata": {},
   "outputs": [
    {
     "name": "stdout",
     "output_type": "stream",
     "text": [
      "6.345949000555137e-10\n",
      "9.420628607876745e-10\n",
      "9.420851395321062e-10\n",
      "6.346228789669695e-10\n"
     ]
    }
   ],
   "source": [
    "qx=0\n",
    "qy=args.k2y/2\n",
    "\n",
    "F,G=viscid.inviscid_mat(qx,qy)\n",
    "Fflattened=np.transpose(F[0,0],(0,2,1,3)).reshape(((2*args.Nx+1)*(2*args.Ny+1),(2*args.Nx+1)*(2*args.Ny+1)))\n",
    "Gflattened=np.transpose(G[0,0],(0,2,1,3)).reshape(((2*args.Nx+1)*(2*args.Ny+1),(2*args.Nx+1)*(2*args.Ny+1)))\n",
    "evals,levecs,revecs=eig(Fflattened,Gflattened,left=True)\n",
    "\n",
    "ind=np.argmin((-evals)**0.5)+1\n",
    "\n",
    "print(np.linalg.norm(levecs[:,ind]@Fflattened-evals[ind]*levecs[:,ind]@Gflattened))\n",
    "print(np.linalg.norm(Fflattened@revecs[:,ind]-evals[ind]*Gflattened@revecs[:,ind]))\n",
    "\n",
    "\n",
    "v0_inviscid=revecs[:,ind].reshape(((2*args.Nx+1),(2*args.Ny+1)))\n",
    "w0_inviscid=np.conjugate(levecs[:,ind].reshape(((2*args.Nx+1),(2*args.Ny+1))))\n",
    "\n",
    "print(np.linalg.norm(np.einsum(\"mMnN,MN\",F[0,0],v0_inviscid)-evals[ind]*np.einsum(\"mMnN,MN\",G[0,0],v0_inviscid)))\n",
    "print(np.linalg.norm(np.einsum(\"mMnN,mn\",F[0,0],w0_inviscid)-evals[ind]*np.einsum(\"mMnN,mn\",G[0,0],w0_inviscid)))"
   ]
  },
  {
   "cell_type": "markdown",
   "id": "1f6bf291",
   "metadata": {},
   "source": [
    "### Viscid instability boundary for flat substrate"
   ]
  },
  {
   "cell_type": "code",
   "execution_count": 8,
   "id": "f83cc0e6",
   "metadata": {},
   "outputs": [
    {
     "data": {
      "image/png": "[encoded data removed]",
      "text/plain": [
       "<Figure size 432x288 with 1 Axes>"
      ]
     },
     "metadata": {
      "needs_background": "light"
     },
     "output_type": "display_data"
    }
   ],
   "source": [
    "qx=0\n",
    "qy=args.k2y/2\n",
    "omega=2*np.pi*args.freq/2\n",
    "\n",
    "evalssweep=[]\n",
    "omegas=np.linspace(2*np.pi*2, 2*np.pi*10, 100)\n",
    "for omega in omegas:\n",
    "    viscid.args.freq=omega/(2*np.pi)\n",
    "    Ftilde_0,Gtilde_0=viscid.viscid_flat_mat(omega/2,qx,qy)\n",
    "    Ftildeflattened_0=np.transpose(Ftilde_0,(0,2,1,3)).reshape((3*(2*args.Nt+1),3*(2*args.Nt+1)))\n",
    "    Gtildeflattened_0=np.transpose(Gtilde_0,(0,2,1,3)).reshape((3*(2*args.Nt+1),3*(2*args.Nt+1)))\n",
    "    evals,levecs,revecs=eig(Ftildeflattened_0,Gtildeflattened_0,left=True)\n",
    "    evalssweep=evalssweep+[evals]\n",
    "viscid.args.freq=2*(q*np.tanh(q*args.h0)*(args.g+args.sigma*q**2))**0.5/(2*np.pi)\n",
    "plt.plot(omegas/(2*np.pi),np.real(evalssweep)/args.g,'bo')\n",
    "plt.ylim(0,3)\n",
    "plt.xlabel(r'$\\omega_d$')\n",
    "plt.ylabel('$a_d$')\n",
    "plt.show()\n"
   ]
  },
  {
   "cell_type": "markdown",
   "id": "85f16f8e",
   "metadata": {},
   "source": [
    "### Continue the flat viscid instability boundary to the sinusoidal viscid instability boundary, As=0 to As=0.05"
   ]
  },
  {
   "cell_type": "code",
   "execution_count": 9,
   "id": "22cae84a",
   "metadata": {},
   "outputs": [
    {
     "name": "stdout",
     "output_type": "stream",
     "text": [
      "4.075485373087146e-14 1.1472403293316887e-15 (-407.7788205008283+1.0118808454281472e-14j)\n",
      "0.8500876918116134 0.008705073926303899 (-407.7788205008272-1.809792009379251e-13j)\n",
      "0.0565219642641925 0.0007419699138938653 (-337.4916984189138-3.3869605783470534e-10j)\n",
      "6.639346753863305e-06 8.758350641431603e-08 (-330.37004669745124+2.477220465183048e-11j)\n",
      "convergence\n",
      "6.526253347079817e-09 1.3631939490022637e-10 (-330.36920426458306+2.642859700914644e-11j)\n",
      "18.778240565\n"
     ]
    }
   ],
   "source": [
    "from scipy.linalg import solve\n",
    "from scipy.linalg import LinAlgWarning\n",
    "import warnings\n",
    "warnings.filterwarnings(\"error\",category=LinAlgWarning)\n",
    "\n",
    "start=timeit.default_timer()\n",
    "viscid.args.freq=2*(q*np.tanh(q*args.h0)*(args.g+args.sigma*q**2))**0.5/(2*np.pi)\n",
    "\n",
    "omega=2*np.pi*viscid.args.freq/2\n",
    "Ftilde_0,Gtilde_0=viscid.viscid_flat_mat(omega,qx,qy)\n",
    "Ftildeflattened_0=np.transpose(Ftilde_0,(0,2,1,3)).reshape((3*(2*args.Nt+1),3*(2*args.Nt+1)))\n",
    "Gtildeflattened_0=np.transpose(Gtilde_0,(0,2,1,3)).reshape((3*(2*args.Nt+1),3*(2*args.Nt+1)))\n",
    "evals,levecs,revecs=eig(Ftildeflattened_0,Gtildeflattened_0,left=True)\n",
    "v0=revecs[:,~np.isinf(evals)][:,-1].reshape((3,(2*args.Nt+1)))\n",
    "w0=np.conjugate(levecs[:,~np.isinf(evals)][:,-1].reshape((3,(2*args.Nt+1))))\n",
    "e1=np.linalg.norm(np.einsum(\"kKlL,KL\",Ftilde_0,v0)-evals[~np.isinf(evals)][-1]*np.einsum(\"kKlL,KL\",Gtilde_0,v0))\n",
    "e2=np.linalg.norm(np.einsum(\"kKlL,kl\",Ftilde_0,w0)-evals[~np.isinf(evals)][-1]*np.einsum(\"kKlL,kl\",Gtilde_0,w0))\n",
    "print(e1,e2,(np.einsum(\"kKlL,KL,kl\",Ftilde_0,v0,w0)/np.einsum(\"kKlL,KL,kl\",Gtilde_0,v0,w0)))\n",
    "\n",
    "Ftilde,Gtilde=viscid.viscid_mat2(omega,qx,qy)\n",
    "\n",
    "v=np.zeros((3,(2*args.Nt+1),(2*args.Nx+1),(2*args.Ny+1)),dtype=np.complex128)\n",
    "w=np.zeros((3,(2*args.Nt+1),(2*args.Nx+1),(2*args.Ny+1)),dtype=np.complex128)\n",
    "v[:,:,args.Nx,args.Ny]=v0\n",
    "w[:,:,args.Nx,args.Ny]=w0\n",
    "\n",
    "for i in range(10):\n",
    "    lam=(np.einsum(\"kKlLmMnN,KLMN,klmn\",Ftilde,v,w)/np.einsum(\"kKlLmMnN,KLMN,klmn\",Gtilde,v,w))\n",
    "    flat=np.transpose(lam*Gtilde-Ftilde,(0,2,4,6,1,3,5,7)).reshape((3*(2*args.Nt+1)*(2*args.Nx+1)*(2*args.Ny+1),3*(2*args.Nt+1)*(2*args.Nx+1)*(2*args.Ny+1)))\n",
    "    try:\n",
    "        xi=solve(flat, np.einsum(\"kKlLmMnN,KLMN\",Gtilde,v).reshape(3*(2*args.Nt+1)*(2*args.Nx+1)*(2*args.Ny+1))).reshape(3,(2*args.Nt+1),(2*args.Nx+1),(2*args.Ny+1))\n",
    "        zeta=solve(flat.T, np.einsum(\"kKlLmMnN,klmn\",Gtilde,w).reshape(3*(2*args.Nt+1)*(2*args.Nx+1)*(2*args.Ny+1))).reshape(3,(2*args.Nt+1),(2*args.Nx+1),(2*args.Ny+1))\n",
    "        v=xi/np.linalg.norm(xi)\n",
    "        w=zeta/np.linalg.norm(zeta)\n",
    "    except LinAlgWarning:\n",
    "        print('convergence')\n",
    "        lam=(np.einsum(\"kKlLmMnN,KLMN,klmn\",Ftilde,v,w)/np.einsum(\"kKlLmMnN,KLMN,klmn\",Gtilde,v,w))\n",
    "        e1=np.linalg.norm(np.einsum(\"kKlLmMnN,KLMN\",Ftilde,v)-lam*np.einsum(\"kKlLmMnN,KLMN\",Gtilde,v))\n",
    "        e2=np.linalg.norm(np.einsum(\"kKlLmMnN,klmn\",Ftilde,w)-lam*np.einsum(\"kKlLmMnN,klmn\",Gtilde,w))\n",
    "        print(e1,e2,lam,flush=True)\n",
    "        break\n",
    "\n",
    "    e1=np.linalg.norm(np.einsum(\"kKlLmMnN,KLMN\",Ftilde,v)-lam*np.einsum(\"kKlLmMnN,KLMN\",Gtilde,v))\n",
    "    e2=np.linalg.norm(np.einsum(\"kKlLmMnN,klmn\",Ftilde,w)-lam*np.einsum(\"kKlLmMnN,klmn\",Gtilde,w))\n",
    "    print(e1,e2,lam,flush=True)\n",
    "stop=timeit.default_timer()\n",
    "print(stop-start)"
   ]
  },
  {
   "cell_type": "markdown",
   "id": "b41c5f83",
   "metadata": {},
   "source": [
    "### Continue the instability boundary mode to the undriven mode, ad=-330 to ad=0"
   ]
  },
  {
   "cell_type": "code",
   "execution_count": 10,
   "id": "ef75f0af",
   "metadata": {},
   "outputs": [
    {
     "name": "stdout",
     "output_type": "stream",
     "text": [
      "(6.447896003269188e-18+1.2862463157862083e-20j)\n",
      "15.871765605769195 (-0.0002584964555875237+7.70127887550611e-13j)\n",
      "(15.87186777858296+0.12099330611259057j) (1.8719385754796422e-06+2.2285317605382843e-07j)\n",
      "(15.871767314873553+0.12185802504760937j) (-6.640534835142439e-09-2.2388654479883773e-09j)\n",
      "(15.87176560862987+0.1218607783643649j) (5.1792746372867856e-12+5.0176886091781596e-12j)\n",
      "convergence\n",
      "(-300.36920426458306+2.642859700914644e-11j) 3 (15.871765605767422+0.12186077665659785j) (5.1792746372867856e-12+5.0176886091781596e-12j)\n",
      "(15.871765605767422+0.12186077665659785j) (6.074297233112939e-05-0.00025872503210795097j)\n",
      "(15.871885913864572+0.24471633457409153j) (-8.52151709298097e-07+2.469893261685533e-06j)\n",
      "(15.871768216684885+0.24590947923314224j) (6.053894563561807e-09-1.0554857128776047e-08j)\n",
      "(15.871765611747152+0.24591442690318116j) (-1.306019630471244e-11+6.5233285005436654e-12j)\n",
      "convergence\n",
      "(-270.36920426458306+2.642859700914644e-11j) 3 (15.871765605765573+0.245914423865666j) (-1.306019630471244e-11+6.5233285005436654e-12j)\n",
      "(15.871765605765573+0.245914423865666j) (0.00021947040826336006+0.00016221051163662248j)\n",
      "(15.871909625693094+0.3713326089707254j) (-2.849079787973486e-06-2.5014509850193272e-06j)\n",
      "(15.871769904990472+0.3730726812170178j) (1.4647799903124533e-08+1.806940756554209e-08j)\n",
      "(15.871765619862385+0.373082524392003j) (1.8313842114763986e-12-3.3086693736520444e-11j)\n",
      "convergence\n",
      "(-240.36920426458306+2.642859700914644e-11j) 3 (15.87176560576091+0.3730825184716949j) (1.8313842114763986e-12-3.3086693736520444e-11j)\n",
      "(15.87176560576091+0.3730825184716949j) (-0.0002635389914773265+9.42968211955498e-05j)\n",
      "(15.871942604416295+0.5022607474288503j) (5.621954590997852e-06-1.5997142554335018e-06j)\n",
      "(15.871773487565079+0.5050000952183584j) (-5.058348625112951e-08+6.687728522225678e-09j)\n",
      "(15.871765645548473+0.5050228454123531j) (6.426029065732464e-11+6.140479497938609e-11j)\n",
      "convergence\n",
      "(-210.36920426458306+2.642859700914644e-11j) 3 (15.87176560574692+0.5050228322585387j) (6.426029065732464e-11+6.140479497938609e-11j)\n",
      "(15.87176560574692+0.5050228322585387j) (0.00012257346057479454-0.00025917819611850863j)\n",
      "(15.871992953871596+0.6402209435657857j) (-4.629239017335449e-06+8.655307077015736e-06j)\n",
      "(15.871782716998364+0.6450631047942117j) (7.920214323811392e-08-1.1399696634435757e-07j)\n",
      "(15.871765757046253+0.6451302067334183j) (-3.1033500266072425e-10-2.925141620330924e-11j)\n",
      "convergence\n",
      "(-180.36920426458306+2.642859700914644e-11j) 3 (15.871765605692739+0.6451301713750566j) (-3.1033500266072425e-10-2.925141620330924e-11j)\n",
      "(15.871765605692739+0.6451301713750566j) (4.027400003984706e-05+0.0002905262302694969j)\n",
      "(15.87208285421614+0.7913447379754901j) (-1.9616455196381657e-06-1.875566803021301e-05j)\n",
      "(15.871816458583845+0.8018566094896957j) (1.4610700827291707e-08+5.593930571712532e-07j)\n",
      "(15.87176665297396+0.8021740952945287j) (1.681065992159928e-09-7.232121436765303e-10j)\n",
      "(15.871765605494+0.8021740041453406j) (3.2441033435432166e-12+4.86689666478644e-12j)\n",
      "convergence\n",
      "(-150.36920426458306+2.642859700914644e-11j) 4 (15.871765605758352+0.8021740007952295j) (3.2441033435432166e-12+4.86689666478644e-12j)\n",
      "(15.871765605758352+0.8021740007952295j) (-0.0001861451324402763-0.00023501854813878214j)\n",
      "(15.872303595436028+0.9743512615986948j) (2.8495426278543996e-05+3.7434369369205945e-05j)\n",
      "(15.872115953615+1.0124496520077022j) (-3.5688599906102688e-06-5.023877630638502e-06j)\n",
      "(15.871821991366021+1.018655925537793j) (1.8092662676404175e-08+9.674793485020982e-08j)\n",
      "(15.87176628276135+1.0187416274417735j) (1.3453857870839494e-10-7.431050685931457e-10j)\n",
      "(15.871765602846976+1.0187412356627514j) (3.618141378519439e-12-4.336565044120836e-12j)\n",
      "convergence\n",
      "(-120.36920426458306+2.642859700914644e-11j) 5 (15.871765605730662+1.0187412305515915j) (3.618141378519439e-12-4.336565044120836e-12j)\n",
      "(15.871765605730662+1.0187412305515915j) (-5.319235223015839e-05+0.00030229879298558854j)\n",
      "(15.874104928334015+1.3373060714600586j) (5.465006882643966e-05-0.0003007215199129471j)\n",
      "(15.879595086001961+1.0060834596179302j) (-6.0075395527561695e-05+0.0003191945772888679j)\n",
      "(15.887090666454055+1.3142483103024916j) (4.356371191352053e-05-0.00028110237920641804j)\n",
      "(15.919883432694304+0.9534877613796457j) (-8.536597093833882e-05+0.00037416548630064833j)\n",
      "(15.927018887415128+1.2336688366289499j) (-9.152874613407907e-07-0.0002269403603497344j)\n",
      "(16.321862421351604+0.9389794308977364j) (-0.00017488063211608724+0.0005830876299594118j)\n",
      "(16.12981196403959+1.0915687626000532j) (-0.0001414935382504543+5.293856790134239e-05j)\n",
      "(16.114618602333092+1.1744659410710871j) (1.26804202051949e-06-2.4679468594430703e-05j)\n",
      "(16.12679271897903+1.1842735253693668j) (4.555158688023494e-07+5.001508447707343e-07j)\n",
      "(16.126650345235102+1.1838893315744003j) (4.674363769339897e-10-3.398548749854053e-09j)\n",
      "(16.12664995765925+1.183887289561393j) (-8.221122549782079e-12+1.4604804971076752e-11j)\n",
      "convergence\n",
      "(-90.36920426458306+2.642859700914644e-11j) 11 (16.12664995577456+1.1838872795836033j) (-8.221122549782079e-12+1.4604804971076752e-11j)\n",
      "(16.12664995577456+1.1838872795836033j) (-0.00019507652091218516-0.0001641465228405395j)\n",
      "(16.281157294143494+1.184013775593752j) (8.794674568362733e-05+7.421028230667453e-05j)\n",
      "(16.23516629538302+1.1839082805341714j) (2.725436007714393e-06+2.2830711180172704e-06j)\n",
      "(16.233682486836+1.1839033041012108j) (1.892869178725337e-08+1.5714951969693416e-08j)\n",
      "(16.233672188547683+1.183903245551963j) (6.648375045950196e-11+5.395503704720904e-11j)\n",
      "convergence\n",
      "(-60.36920426458306+2.642859700914644e-11j) 4 (16.233672152705974+1.1839032453403493j) (6.648375045950196e-11+5.395503704720904e-11j)\n",
      "(16.233672152705974+1.1839032453403493j) (-0.00013568333356926492-0.00010883073115443421j)\n",
      "(16.306495684843824+1.183939940117911j) (4.634528984159486e-05+3.720804054942485e-05j)\n",
      "(16.285122363518862+1.1839133761184397j) (3.550957711306971e-07+2.8455677161943794e-07j)\n",
      "(16.284957639096415+1.1839129078529396j) (1.2279034500380877e-09+9.733456211071683e-10j)\n",
      "(16.284957071790227+1.18391290601935j) (3.7749514658659225e-12+2.953783219116735e-12j)\n",
      "convergence\n",
      "(-30.36920426458306+2.642859700914644e-11j) 4 (16.284957070054798+1.183912906013469j) (3.7749514658659225e-12+2.953783219116735e-12j)\n",
      "(16.284957070054798+1.183912906013469j) (-7.00085479809774e-05-5.4420581277388315e-05j)\n",
      "(16.317064458386664+1.1839240115745238j) (3.65730089939354e-05+2.8417864452844874e-05j)\n",
      "(16.301006478497634+1.1839162570387864j) (1.3744927411014548e-07+1.0673398447290763e-07j)\n",
      "(16.300946086396067+1.1839161875712743j) (4.1038438627371714e-10+3.1707370704695116e-10j)\n",
      "convergence\n",
      "(-0.3692042645830611+2.642859700914644e-11j) 3 (16.300945906421173+1.1839161873900501j) (4.1038438627371714e-10+3.1707370704695116e-10j)\n",
      "(16.300945906421173+1.1839161873900501j) (-8.575294921211077e-07-6.61457433832343e-07j)\n",
      "(16.301321746616356+1.1839162665191072j) (3.410443082364139e-05+2.62875747458279e-05j)\n",
      "(16.28579896483849+1.1839131125418558j) (1.3029817848641328e-07+1.0047680124244183e-07j)\n",
      "(16.285739519300822+1.1839130637105069j) (4.0491390432967214e-10+3.111630486476863e-10j)\n",
      "convergence\n",
      "(29.63079573541694+2.642859700914644e-11j) 3 (16.285739334797906+1.1839130635644968j) (4.0491390432967214e-10+3.111630486476863e-10j)\n",
      "367.786227896\n"
     ]
    }
   ],
   "source": [
    "start=timeit.default_timer()\n",
    "dad=30\n",
    "domega_fd=0.1\n",
    "\n",
    "viscid.args.ad=lam\n",
    "E0=viscid.viscid_mat(omega,qx,qy)\n",
    "print(np.einsum(\"kKlLmMnN,KLMN,klmn\",E0,v,w))\n",
    "\n",
    "vn=v\n",
    "wn=w\n",
    "\n",
    "itmax=100\n",
    "omegas=[]\n",
    "ads=[]\n",
    "vns=[]\n",
    "wns=[]\n",
    "while viscid.args.ad<0:\n",
    "    viscid.args.ad += dad\n",
    "    for i in range(itmax):\n",
    "        E_new=viscid.viscid_mat(omega,qx,qy)\n",
    "        print(omega, np.einsum(\"kKlLmMnN,KLMN,klmn\",E_new,vn,wn))\n",
    "        dE=(viscid.viscid_mat(omega+domega_fd,qx,qy)-E_new)/domega_fd\n",
    "        flat=np.transpose(E_new,(0,2,4,6,1,3,5,7)).reshape((3*(2*args.Nt+1)*(2*args.Nx+1)*(2*args.Ny+1),3*(2*args.Nt+1)*(2*args.Nx+1)*(2*args.Ny+1)))\n",
    "        dflat=np.transpose(dE,(0,2,4,6,1,3,5,7)).reshape((3*(2*args.Nt+1)*(2*args.Nx+1)*(2*args.Ny+1),3*(2*args.Nt+1)*(2*args.Nx+1)*(2*args.Ny+1)))\n",
    "        try:\n",
    "            xi=solve(flat, np.einsum(\"kKlLmMnN,KLMN\",dE,vn).reshape(3*(2*args.Nt+1)*(2*args.Nx+1)*(2*args.Ny+1))).reshape(3,(2*args.Nt+1),(2*args.Nx+1),(2*args.Ny+1))\n",
    "            zeta=solve(flat.T, np.einsum(\"kKlLmMnN,klmn\",dE,wn).reshape(3*(2*args.Nt+1)*(2*args.Nx+1)*(2*args.Ny+1))).reshape(3,(2*args.Nt+1),(2*args.Nx+1),(2*args.Ny+1))\n",
    "            domega=-np.einsum(\"kKlLmMnN,KLMN,klmn\",E_new,vn,wn)/np.einsum(\"kKlLmMnN,KLMN,klmn\",dE,vn,wn)\n",
    "            omega=omega+domega\n",
    "            vn=xi/np.linalg.norm(xi)\n",
    "            wn=zeta/np.linalg.norm(zeta)\n",
    "        except LinAlgWarning:\n",
    "            print('convergence')\n",
    "            domega=-np.einsum(\"kKlLmMnN,KLMN,klmn\",E_new,vn,wn)/np.einsum(\"kKlLmMnN,KLMN,klmn\",dE,vn,wn)\n",
    "            omega=omega+domega\n",
    "            omegas=omegas+[omega]\n",
    "            ads=ads+[viscid.args.ad]\n",
    "            vns=vns+[vn]\n",
    "            wns=wns+[wn]\n",
    "            print(viscid.args.ad,i,omega, np.einsum(\"kKlLmMnN,KLMN,klmn\",E_new,vn,wn))\n",
    "            break\n",
    "\n",
    "stop=timeit.default_timer()\n",
    "print(stop-start)"
   ]
  },
  {
   "cell_type": "markdown",
   "id": "148b1533",
   "metadata": {},
   "source": [
    "#### The eigenvalue initially increasese in imaginary component (damping) before colliding with another (undetected, conjugate) mode and then increases in the real component. This is the resonance phenomena with the comlex conjugate mode, leading to the subharmonic response."
   ]
  },
  {
   "cell_type": "code",
   "execution_count": 11,
   "id": "03b1f17b",
   "metadata": {},
   "outputs": [
    {
     "data": {
      "text/plain": [
       "[<matplotlib.lines.Line2D at 0x7fbc010d6fd0>]"
      ]
     },
     "execution_count": 11,
     "metadata": {},
     "output_type": "execute_result"
    },
    {
     "data": {
      "image/png": "[encoded data removed]",
      "text/plain": [
       "<Figure size 432x288 with 1 Axes>"
      ]
     },
     "metadata": {
      "needs_background": "light"
     },
     "output_type": "display_data"
    }
   ],
   "source": [
    "plt.plot(np.real(omegas),np.imag(omegas),'bo')"
   ]
  },
  {
   "cell_type": "markdown",
   "id": "8ff76592",
   "metadata": {},
   "source": [
    "#### Compare the eigenvectors for the undriven viscid and inviscid solutions. The inviscid solution is real, but the viscid solution is complex. Are we missing a factor of i? "
   ]
  },
  {
   "cell_type": "code",
   "execution_count": 24,
   "id": "96f468a4",
   "metadata": {},
   "outputs": [
    {
     "data": {
      "image/png": "[encoded data removed]",
      "text/plain": [
       "<Figure size 432x288 with 2 Axes>"
      ]
     },
     "metadata": {
      "needs_background": "light"
     },
     "output_type": "display_data"
    },
    {
     "data": {
      "image/png": "[encoded data removed]",
      "text/plain": [
       "<Figure size 432x288 with 2 Axes>"
      ]
     },
     "metadata": {
      "needs_background": "light"
     },
     "output_type": "display_data"
    }
   ],
   "source": [
    "plt.imshow(np.real(vns[-1][2,args.Nt-1]).T)\n",
    "plt.colorbar()\n",
    "plt.show()\n",
    "plt.imshow(np.imag(vns[-1][2,args.Nt-1]).T)\n",
    "plt.colorbar()\n",
    "plt.show()"
   ]
  },
  {
   "cell_type": "code",
   "execution_count": 26,
   "id": "bfcafb1c",
   "metadata": {
    "scrolled": false
   },
   "outputs": [
    {
     "data": {
      "image/png": "[encoded data removed]",
      "text/plain": [
       "<Figure size 432x288 with 2 Axes>"
      ]
     },
     "metadata": {
      "needs_background": "light"
     },
     "output_type": "display_data"
    },
    {
     "data": {
      "image/png": "[encoded data removed]",
      "text/plain": [
       "<Figure size 432x288 with 2 Axes>"
      ]
     },
     "metadata": {
      "needs_background": "light"
     },
     "output_type": "display_data"
    }
   ],
   "source": [
    "plt.imshow(-np.real(v0_inviscid).T)\n",
    "plt.colorbar()\n",
    "plt.show()\n",
    "plt.imshow(np.imag(v0_inviscid).T)\n",
    "plt.colorbar()\n",
    "plt.show()"
   ]
  },
  {
   "cell_type": "code",
   "execution_count": null,
   "id": "f5396e37",
   "metadata": {},
   "outputs": [],
   "source": []
  }
 ],
 "metadata": {
  "kernelspec": {
   "display_name": "Python 3 (ipykernel)",
   "language": "python",
   "name": "python3"
  },
  "language_info": {
   "codemirror_mode": {
    "name": "ipython",
    "version": 3
   },
   "file_extension": ".py",
   "mimetype": "text/x-python",
   "name": "python",
   "nbconvert_exporter": "python",
   "pygments_lexer": "ipython3",
   "version": "3.7.13"
  }
 },
 "nbformat": 4,
 "nbformat_minor": 5
}
