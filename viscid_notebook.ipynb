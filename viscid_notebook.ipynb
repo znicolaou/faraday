{
 "cells": [
  {
   "cell_type": "code",
   "execution_count": 1,
   "id": "c9062448",
   "metadata": {},
   "outputs": [],
   "source": [
    "from scipy.special import iv\n",
    "import numpy as np\n",
    "import timeit\n",
    "import viscid\n",
    "import imp"
   ]
  },
  {
   "cell_type": "code",
   "execution_count": 2,
   "id": "fae711e1",
   "metadata": {
    "scrolled": true
   },
   "outputs": [
    {
     "data": {
      "text/plain": [
       "<module 'viscid' from '/Users/zack/Desktop/shaker_docs/faraday/viscid.py'>"
      ]
     },
     "execution_count": 2,
     "metadata": {},
     "output_type": "execute_result"
    }
   ],
   "source": [
    "#If you edit viscid while the kernel is running, run this to reload the package\n",
    "imp.reload(viscid)"
   ]
  },
  {
   "cell_type": "code",
   "execution_count": 3,
   "id": "bd5f27da",
   "metadata": {},
   "outputs": [],
   "source": [
    "args=viscid.args"
   ]
  },
  {
   "cell_type": "code",
   "execution_count": 4,
   "id": "af56363b",
   "metadata": {},
   "outputs": [
    {
     "name": "stdout",
     "output_type": "stream",
     "text": [
      "0.05537885499999984\n"
     ]
    }
   ],
   "source": [
    "kx=1\n",
    "ky=1\n",
    "omega=1\n",
    "\n",
    "start=timeit.default_timer()\n",
    "E = np.zeros((3,3,2*args.Nt+1,2*args.Nt+1,2*args.Nx+1,2*args.Nx+1,2*args.Ny+1,2*args.Ny+1),dtype=np.complex128)\n",
    "#mode indices. axes appear in the order (l',l,m',m,n',n)\n",
    "lps=np.arange(-args.Nt,args.Nt+1)[:,np.newaxis,np.newaxis,np.newaxis,np.newaxis,np.newaxis]\n",
    "ls=np.arange(-args.Nt,args.Nt+1)[np.newaxis,:,np.newaxis,np.newaxis,np.newaxis,np.newaxis]\n",
    "mps=np.arange(-args.Nx,args.Nx+1)[np.newaxis,np.newaxis,:,np.newaxis,np.newaxis,np.newaxis]\n",
    "ms=np.arange(-args.Nx,args.Nx+1)[np.newaxis,np.newaxis,np.newaxis,:,np.newaxis,np.newaxis]\n",
    "nps=np.arange(-args.Ny,args.Ny+1)[np.newaxis,np.newaxis,np.newaxis,np.newaxis,:,np.newaxis]\n",
    "ns=np.arange(-args.Ny,args.Ny+1)[np.newaxis,np.newaxis,np.newaxis,np.newaxis,np.newaxis,:]\n",
    "\n",
    "kappax = kx + args.k1x*ms + args.k2x*ns\n",
    "kappay = ky + args.k1y*ms + args.k2y*ns\n",
    "kappa = (kappax**2+kappay**2)**0.5\n",
    "Omega = 1j*(omega + 2*np.pi*args.freq*ls) + args.mu/args.rho*kappa**2\n",
    "\n",
    "#Define also here the symmetric sums and differences C,Ctile,S,Stilde above Eq. 31, and then assign the corresponding elements of E with array slicing.\n",
    "Ctilde = np.exp(-(args.rho/args.mu*Omega)**0.5*args.h0)*iv(ms-mps,(args.rho/args.mu*Omega)**0.5*args.As)*iv(ns-nps,(args.rho/args.mu*Omega)**0.5*args.As) + np.exp((args.rho/args.mu*Omega)**0.5*args.h0)*iv(ms-mps,-(args.rho/args.mu*Omega)**0.5*args.As)*iv(ns-nps,-Omega**0.5*args.As)\n",
    "E[0,0][(np.arange(E.shape[2]),np.arange(E.shape[3]))] = Ctilde\n",
    "\n",
    "stop=timeit.default_timer()\n",
    "print(stop-start)"
   ]
  },
  {
   "cell_type": "code",
   "execution_count": 5,
   "id": "86be9cf7",
   "metadata": {},
   "outputs": [
    {
     "data": {
      "text/plain": [
       "(3, 3, 11, 11, 11, 11, 11, 11)"
      ]
     },
     "execution_count": 5,
     "metadata": {},
     "output_type": "execute_result"
    }
   ],
   "source": [
    "E=viscid.viscid_mat(1,1,1)\n",
    "E.shape"
   ]
  },
  {
   "cell_type": "code",
   "execution_count": null,
   "id": "818525b2",
   "metadata": {},
   "outputs": [],
   "source": []
  }
 ],
 "metadata": {
  "kernelspec": {
   "display_name": "Python 3 (ipykernel)",
   "language": "python",
   "name": "python3"
  },
  "language_info": {
   "codemirror_mode": {
    "name": "ipython",
    "version": 3
   },
   "file_extension": ".py",
   "mimetype": "text/x-python",
   "name": "python",
   "nbconvert_exporter": "python",
   "pygments_lexer": "ipython3",
   "version": "3.9.7"
  }
 },
 "nbformat": 4,
 "nbformat_minor": 5
}
