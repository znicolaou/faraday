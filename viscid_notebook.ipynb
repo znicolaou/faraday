{
 "cells": [
  {
   "cell_type": "code",
   "execution_count": 245,
   "id": "c9062448",
   "metadata": {},
   "outputs": [],
   "source": [
    "from scipy.special import iv\n",
    "import numpy as np\n",
    "import timeit\n",
    "import viscid\n",
    "import imp"
   ]
  },
  {
   "cell_type": "code",
   "execution_count": 246,
   "id": "fae711e1",
   "metadata": {
    "scrolled": true
   },
   "outputs": [
    {
     "data": {
      "text/plain": [
       "<module 'viscid' from '/Users/zack/Desktop/shaker_docs/faraday/viscid.py'>"
      ]
     },
     "execution_count": 246,
     "metadata": {},
     "output_type": "execute_result"
    }
   ],
   "source": [
    "#If you edit viscid while the kernel is running, run this to reload the package\n",
    "imp.reload(viscid)"
   ]
  },
  {
   "cell_type": "code",
   "execution_count": 247,
   "id": "bd5f27da",
   "metadata": {},
   "outputs": [],
   "source": [
    "args=viscid.args"
   ]
  },
  {
   "cell_type": "code",
   "execution_count": 248,
   "id": "af56363b",
   "metadata": {},
   "outputs": [
    {
     "name": "stdout",
     "output_type": "stream",
     "text": [
      "0.007680631999392062\n"
     ]
    }
   ],
   "source": [
    "kx=0\n",
    "ky=args.k2y/2\n",
    "omega=2*np.pi*args.freq/2\n",
    "\n",
    "start=timeit.default_timer()\n",
    "E = np.zeros((3,3,2*args.Nt+1,2*args.Nt+1,2*args.Nx+1,2*args.Nx+1,2*args.Ny+1,2*args.Ny+1),dtype=np.complex128)\n",
    "#mode indices. axes appear in the order (l',l,m',m,n',n)\n",
    "lps=np.arange(-args.Nt,args.Nt+1)[:,np.newaxis,np.newaxis,np.newaxis,np.newaxis,np.newaxis]\n",
    "ls=np.arange(-args.Nt,args.Nt+1)[np.newaxis,:,np.newaxis,np.newaxis,np.newaxis,np.newaxis]\n",
    "mps=np.arange(-args.Nx,args.Nx+1)[np.newaxis,np.newaxis,:,np.newaxis,np.newaxis,np.newaxis]\n",
    "ms=np.arange(-args.Nx,args.Nx+1)[np.newaxis,np.newaxis,np.newaxis,:,np.newaxis,np.newaxis]\n",
    "nps=np.arange(-args.Ny,args.Ny+1)[np.newaxis,np.newaxis,np.newaxis,np.newaxis,:,np.newaxis]\n",
    "ns=np.arange(-args.Ny,args.Ny+1)[np.newaxis,np.newaxis,np.newaxis,np.newaxis,np.newaxis,:]\n",
    "\n",
    "kappax = kx + args.k1x*ms + args.k2x*ns\n",
    "kappay = ky + args.k1y*ms + args.k2y*ns\n",
    "kappa = (kappax**2+kappay**2)**0.5\n",
    "Omega = 1j*(omega + 2*np.pi*args.freq*ls) + args.mu/args.rho*kappa**2\n",
    "\n",
    "#Define also here the symmetric sums and differences C,Ctile,S,Stilde above Eq. 31, and then assign the corresponding elements of E with array slicing.\n",
    "Ctilde = np.exp(-(args.rho/args.mu*Omega)**0.5*args.h0)*iv(ms-mps,(args.rho/args.mu*Omega)**0.5*args.As/2)*iv(ns-nps,(args.rho/args.mu*Omega)**0.5*args.As/2) + np.exp((args.rho/args.mu*Omega)**0.5*args.h0)*iv(ms-mps,-(args.rho/args.mu*Omega)**0.5*args.As/2)*iv(ns-nps,-(args.rho/args.mu*Omega)**0.5*args.As/2)\n",
    "C = np.exp(-kappa*args.h0)*iv(ms-mps,kappa*args.As/2)*iv(ns-nps,kappa*args.As/2) + np.exp(kappa*args.h0)*iv(ms-mps,-kappa*args.As/2)*iv(ns-nps,-kappa*args.As/2)\n",
    "\n",
    "E[0,0][(np.arange(E.shape[2]),np.arange(E.shape[3]))] = Ctilde-2*args.mu/args.rho*kappax**2*C/(args.mu*kappa**2+args.rho*Omega)\n",
    "\n",
    "stop=timeit.default_timer()\n",
    "print(stop-start)"
   ]
  },
  {
   "cell_type": "code",
   "execution_count": 251,
   "id": "86be9cf7",
   "metadata": {
    "scrolled": true
   },
   "outputs": [
    {
     "data": {
      "text/plain": [
       "(1029, 1029)"
      ]
     },
     "execution_count": 251,
     "metadata": {},
     "output_type": "execute_result"
    }
   ],
   "source": [
    "E=viscid.viscid_mat(2*np.pi*args.freq/2,0,args.k2y/2)\n",
    "E.shape\n",
    "flattened=np.transpose(E,(0,2,4,6,1,3,5,7)).reshape((3*(2*args.Nx+1)*(2*args.Ny+1)*(2*args.Nt+1),3*(2*args.Nx+1)*(2*args.Ny+1)*(2*args.Nt+1)))\n",
    "flattened.shape"
   ]
  },
  {
   "cell_type": "code",
   "execution_count": 255,
   "id": "eb61327d",
   "metadata": {
    "scrolled": true
   },
   "outputs": [
    {
     "data": {
      "text/plain": [
       "(-34.43596924438191-39.92555860385018j)"
      ]
     },
     "execution_count": 255,
     "metadata": {},
     "output_type": "execute_result"
    }
   ],
   "source": [
    "E[0,0,3,3,3,3,3,3]"
   ]
  },
  {
   "cell_type": "code",
   "execution_count": 257,
   "id": "d8de3671",
   "metadata": {},
   "outputs": [
    {
     "data": {
      "text/plain": [
       "array([-6717.07354657-2745.15609605j,  2125.55748825 -773.77625834j,\n",
       "        -157.13972678 +318.63891143j, ...,     0.           +0.j        ,\n",
       "           0.           +0.j        ,     0.           +0.j        ])"
      ]
     },
     "execution_count": 257,
     "metadata": {},
     "output_type": "execute_result"
    }
   ],
   "source": [
    "flattened[0]"
   ]
  },
  {
   "cell_type": "code",
   "execution_count": 41,
   "id": "06a17236",
   "metadata": {},
   "outputs": [
    {
     "name": "stdout",
     "output_type": "stream",
     "text": [
      "0.0075672230000236596\n",
      "0.17459624299999632\n",
      "(array([   0,    1,    2, ..., 1328, 1329, 1330]), array([   0,    1,    2, ..., 1328, 1329, 1330]))\n",
      "0.014356282999870018\n",
      "(array([  0,   0,   0, ..., 443, 443, 443]), array([   0,   12,   24, ..., 2637, 2649, 2661]))\n"
     ]
    }
   ],
   "source": [
    "#some test for kronecker deltas\n",
    "start=timeit.default_timer()\n",
    "deltal=np.ones((ls-lps).shape)\n",
    "deltal[np.nonzero(ls-lps)]=0\n",
    "deltam=np.ones((ms-mps).shape)\n",
    "deltam[np.nonzero(ms-mps)]=0\n",
    "deltan=np.ones((ns-nps).shape)\n",
    "deltan[np.nonzero(ns-nps)]=0\n",
    "E[0,0]=(deltan*deltam*deltal)\n",
    "stop=timeit.default_timer()\n",
    "print(stop-start)\n",
    "\n",
    "#flattening into a 2d array requires reshaping so the right indices correspond\n",
    "start=timeit.default_timer()\n",
    "flattened=np.transpose(E,(0,2,4,6,1,3,5,7)).reshape((3*(2*args.Nx+1)*(2*args.Ny+1)*(2*args.Nt+1),3*(2*args.Nx+1)*(2*args.Ny+1)*(2*args.Nt+1)))\n",
    "stop=timeit.default_timer()\n",
    "print(stop-start)\n",
    "print(flattened.nonzero())\n",
    "\n",
    "#If we used the order with all primes followed by all nonprimes, reshaping would be faster\n",
    "start=timeit.default_timer()\n",
    "flattened=E.reshape((3*(2*args.Nx+1)*(2*args.Ny+1)*(2*args.Nt+1),3*(2*args.Nx+1)*(2*args.Ny+1)*(2*args.Nt+1)))\n",
    "stop=timeit.default_timer()\n",
    "print(stop-start)\n",
    "print(flattened.nonzero())\n"
   ]
  },
  {
   "cell_type": "code",
   "execution_count": null,
   "id": "85143a01",
   "metadata": {},
   "outputs": [],
   "source": []
  }
 ],
 "metadata": {
  "kernelspec": {
   "display_name": "Python 3 (ipykernel)",
   "language": "python",
   "name": "python3"
  },
  "language_info": {
   "codemirror_mode": {
    "name": "ipython",
    "version": 3
   },
   "file_extension": ".py",
   "mimetype": "text/x-python",
   "name": "python",
   "nbconvert_exporter": "python",
   "pygments_lexer": "ipython3",
   "version": "3.9.7"
  }
 },
 "nbformat": 4,
 "nbformat_minor": 5
}
