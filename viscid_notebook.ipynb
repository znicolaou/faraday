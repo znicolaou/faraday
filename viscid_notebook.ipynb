{
 "cells": [
  {
   "cell_type": "code",
   "execution_count": 1,
   "id": "c9062448",
   "metadata": {},
   "outputs": [],
   "source": [
    "from scipy.special import iv\n",
    "import numpy as np\n",
    "import timeit\n",
    "import viscid\n",
    "import imp\n",
    "from scipy.linalg import eig\n",
    "import matplotlib.pyplot as plt"
   ]
  },
  {
   "cell_type": "code",
   "execution_count": 2,
   "id": "fae711e1",
   "metadata": {
    "scrolled": true
   },
   "outputs": [
    {
     "data": {
      "text/plain": [
       "<module 'viscid' from '/Users/zack/Desktop/shaker_docs/faraday/viscid.py'>"
      ]
     },
     "execution_count": 2,
     "metadata": {},
     "output_type": "execute_result"
    }
   ],
   "source": [
    "#If you edit viscid while the kernel is running, run this to reload the package\n",
    "imp.reload(viscid)"
   ]
  },
  {
   "cell_type": "code",
   "execution_count": 3,
   "id": "bd5f27da",
   "metadata": {},
   "outputs": [],
   "source": [
    "args=viscid.args"
   ]
  },
  {
   "cell_type": "code",
   "execution_count": 4,
   "id": "56e4c0a0",
   "metadata": {},
   "outputs": [
    {
     "name": "stdout",
     "output_type": "stream",
     "text": [
      "0.9835712800000005\n",
      "1.0171138209999997\n",
      "0.9846282679999998\n"
     ]
    }
   ],
   "source": [
    "num=50\n",
    "\n",
    "start=timeit.default_timer()\n",
    "ks=np.arange(1,num)/num*args.k2y/2\n",
    "evalssweep1=[]\n",
    "for k in ks:\n",
    "    F,G=viscid.inviscid_mat(0,k)\n",
    "    Fflattened=np.transpose(F[0,0],(0,2,1,3)).reshape(((2*args.Nx+1)*(2*args.Ny+1),(2*args.Nx+1)*(2*args.Ny+1)))\n",
    "    Gflattened=np.transpose(G[0,0],(0,2,1,3)).reshape(((2*args.Nx+1)*(2*args.Ny+1),(2*args.Nx+1)*(2*args.Ny+1)))\n",
    "    evals,evecs=eig(Fflattened,Gflattened)\n",
    "    evalssweep1=evalssweep1+[evals]\n",
    "stop=timeit.default_timer()\n",
    "print(stop-start)\n",
    "\n",
    "start=timeit.default_timer()\n",
    "kxs2=args.k2x/2+np.arange(1,num)/num*((2*args.k2x + args.k1x)/3 - args.k2x/2)\n",
    "kys2=args.k2y/2+np.arange(1,num)/num*((2*args.k2y + args.k1y)/3 - args.k2y/2)\n",
    "evalssweep2=[]\n",
    "for i in range(num-1):\n",
    "    F,G=viscid.inviscid_mat(kxs2[i],kys2[i])\n",
    "    Fflattened=np.transpose(F[0,0],(0,2,1,3)).reshape(((2*args.Nx+1)*(2*args.Ny+1),(2*args.Nx+1)*(2*args.Ny+1)))\n",
    "    Gflattened=np.transpose(G[0,0],(0,2,1,3)).reshape(((2*args.Nx+1)*(2*args.Ny+1),(2*args.Nx+1)*(2*args.Ny+1)))\n",
    "    evals,evecs=eig(Fflattened,Gflattened)\n",
    "    evalssweep2=evalssweep2+[evals]\n",
    "stop=timeit.default_timer()\n",
    "print(stop-start)\n",
    "\n",
    "start=timeit.default_timer()\n",
    "kxs3=np.arange(1,num)/num*((2*args.k2x + args.k1x)/3)\n",
    "kys3=np.arange(1,num)/num*((2*args.k2y + args.k1y)/3)\n",
    "evalssweep3=[]\n",
    "for i in range(num-1):\n",
    "    F,G=viscid.inviscid_mat(kxs3[i],kys3[i])\n",
    "    Fflattened=np.transpose(F[0,0],(0,2,1,3)).reshape(((2*args.Nx+1)*(2*args.Ny+1),(2*args.Nx+1)*(2*args.Ny+1)))\n",
    "    Gflattened=np.transpose(G[0,0],(0,2,1,3)).reshape(((2*args.Nx+1)*(2*args.Ny+1),(2*args.Nx+1)*(2*args.Ny+1)))\n",
    "    evals,evecs=eig(Fflattened,Gflattened)\n",
    "    evalssweep3=evalssweep3+[evals]\n",
    "stop=timeit.default_timer()\n",
    "print(stop-start)"
   ]
  },
  {
   "cell_type": "code",
   "execution_count": 5,
   "id": "531767ae",
   "metadata": {},
   "outputs": [
    {
     "data": {
      "image/png": "[encoded data removed]",
      "text/plain": [
       "<Figure size 432x288 with 1 Axes>"
      ]
     },
     "metadata": {
      "needs_background": "light"
     },
     "output_type": "display_data"
    }
   ],
   "source": [
    "vals1=np.sort(np.abs(np.imag(np.array(evalssweep1)**0.5/(2*np.pi))),axis=1)\n",
    "vals2=np.sort(np.abs(np.imag(np.array(evalssweep2)**0.5/(2*np.pi))),axis=1)\n",
    "vals3=np.flip(np.sort(np.abs(np.imag(np.array(evalssweep3)**0.5/(2*np.pi))),axis=1),axis=0)\n",
    "\n",
    "plt.ylim(0,5)\n",
    "plt.plot(np.concatenate([vals1,vals2,vals3]))\n",
    "plt.xlabel('$k$')\n",
    "plt.ylabel('$f$')           \n",
    "plt.show()"
   ]
  },
  {
   "cell_type": "code",
   "execution_count": 6,
   "id": "b497eb51",
   "metadata": {},
   "outputs": [
    {
     "name": "stdout",
     "output_type": "stream",
     "text": [
      "(3993, 3993)\n",
      "0.721322219000001\n"
     ]
    }
   ],
   "source": [
    "start=timeit.default_timer()\n",
    "\n",
    "E=viscid.viscid_mat(2*np.pi*args.freq/2,0,args.k2y/2)\n",
    "E.shape\n",
    "flattened=np.transpose(E,(0,2,4,6,1,3,5,7)).reshape((3*(2*args.Nx+1)*(2*args.Ny+1)*(2*args.Nt+1),3*(2*args.Nx+1)*(2*args.Ny+1)*(2*args.Nt+1)))\n",
    "print(flattened.shape)\n",
    "\n",
    "stop=timeit.default_timer()\n",
    "print(stop-start)"
   ]
  },
  {
   "cell_type": "code",
   "execution_count": 8,
   "id": "9995aef5",
   "metadata": {},
   "outputs": [
    {
     "name": "stdout",
     "output_type": "stream",
     "text": [
      "4.775798900906629e-10\n",
      "5.900170597225778e-10\n",
      "5.942928415316502e-10\n",
      "5.026518732544115e-10\n"
     ]
    }
   ],
   "source": [
    "F,G=viscid.inviscid_mat(0,args.k2y/2)\n",
    "Fflattened=np.transpose(F[0,0],(0,2,1,3)).reshape(((2*args.Nx+1)*(2*args.Ny+1),(2*args.Nx+1)*(2*args.Ny+1)))\n",
    "Gflattened=np.transpose(G[0,0],(0,2,1,3)).reshape(((2*args.Nx+1)*(2*args.Ny+1),(2*args.Nx+1)*(2*args.Ny+1)))\n",
    "evals,levecs,revecs=eig(Fflattened,Gflattened,left=True)\n",
    "\n",
    "print(np.linalg.norm(levecs[:,-1]@Fflattened-evals[-1]*levecs[:,-1]@Gflattened))\n",
    "print(np.linalg.norm(Fflattened@revecs[:,-1]-evals[-1]*Gflattened@revecs[:,-1]))\n",
    "\n",
    "\n",
    "v0=revecs[:,-1].reshape(((2*args.Nx+1),(2*args.Ny+1)))\n",
    "w0=levecs[:,-1].reshape(((2*args.Nx+1),(2*args.Ny+1)))\n",
    "\n",
    "print(np.linalg.norm(np.einsum(\"ijkl,kl\",np.transpose(F[0,0],(0,2,1,3)),v0)-evals[-1]*np.einsum(\"ijkl,kl\",np.transpose(G[0,0],(0,2,1,3)),v0)))\n",
    "print(np.linalg.norm(np.einsum(\"ijkl,ij\",np.transpose(F[0,0],(0,2,1,3)),w0)-evals[-1]*np.einsum(\"ijkl,ij\",np.transpose(G[0,0],(0,2,1,3)),w0)))"
   ]
  },
  {
   "cell_type": "code",
   "execution_count": 72,
   "id": "934d2e47",
   "metadata": {},
   "outputs": [
    {
     "data": {
      "text/plain": [
       "<module 'viscid' from '/Users/zack/Desktop/shaker_docs/faraday/viscid.py'>"
      ]
     },
     "execution_count": 72,
     "metadata": {},
     "output_type": "execute_result"
    }
   ],
   "source": [
    "imp.reload(viscid)"
   ]
  },
  {
   "cell_type": "code",
   "execution_count": 106,
   "id": "ca9748f0",
   "metadata": {},
   "outputs": [
    {
     "name": "stdout",
     "output_type": "stream",
     "text": [
      "6.003311294712343e-14 7.994566015206853e-16 (-379.5516364617741-1.3965181874614943e-14j)\n",
      "0.6905813537077017 0.007284396086445061 (-379.5516364617748-1.0139337100179614e-12j)\n",
      "0.036334683927481626 0.0004866964128750897 (-322.0728046340976-2.914567365180013e-10j)\n",
      "1.94137010885658e-06 2.6145421182725768e-08 (-317.52049780356293-1.1281003611045982e-12j)\n",
      "convergence\n",
      "1.0660017518785793e-09 2.2405498810042063e-11 (-317.5202532948746-2.4927697814749852e-12j)\n",
      "17.192296468999302\n"
     ]
    }
   ],
   "source": [
    "from scipy.linalg import solve\n",
    "from scipy.linalg import LinAlgWarning\n",
    "import warnings\n",
    "warnings.filterwarnings(\"error\")\n",
    "\n",
    "start=timeit.default_timer()\n",
    "\n",
    "omega=2*np.pi*args.freq/2\n",
    "qx=0\n",
    "qy=args.k2y/2\n",
    "\n",
    "Ftilde_0,Gtilde_0=viscid.viscid_flat_mat(omega,qx,qy)\n",
    "Ftildeflattened_0=np.transpose(Ftilde_0,(0,2,1,3)).reshape((3*(2*args.Nt+1),3*(2*args.Nt+1)))\n",
    "Gtildeflattened_0=np.transpose(Gtilde_0,(0,2,1,3)).reshape((3*(2*args.Nt+1),3*(2*args.Nt+1)))\n",
    "evals,levecs,revecs=eig(Ftildeflattened_0,Gtildeflattened_0,left=True)\n",
    "v0=revecs[:,~np.isinf(evals)][:,-1].reshape((3,(2*args.Nt+1)))\n",
    "w0=np.conjugate(levecs[:,~np.isinf(evals)][:,-1].reshape((3,(2*args.Nt+1))))\n",
    "e1=np.linalg.norm(np.einsum(\"kKlL,KL\",Ftilde_0,v0)-evals[~np.isinf(evals)][-1]*np.einsum(\"kKlL,KL\",Gtilde_0,v0))\n",
    "e2=np.linalg.norm(np.einsum(\"kKlL,kl\",Ftilde_0,w0)-evals[~np.isinf(evals)][-1]*np.einsum(\"kKlL,kl\",Gtilde_0,w0))\n",
    "print(e1,e2,(np.einsum(\"kKlL,KL,kl\",Ftilde_0,v0,w0)/np.einsum(\"kKlL,KL,kl\",Gtilde_0,v0,w0)))\n",
    "\n",
    "Ftilde,Gtilde=viscid.viscid_mat2(omega,qx,qy)\n",
    "\n",
    "v=np.zeros((3,(2*args.Nt+1),(2*args.Nx+1),(2*args.Ny+1)),dtype=np.complex128)\n",
    "w=np.zeros((3,(2*args.Nt+1),(2*args.Nx+1),(2*args.Ny+1)),dtype=np.complex128)\n",
    "v[:,:,args.Nx,args.Ny]=v0\n",
    "w[:,:,args.Nx,args.Ny]=w0\n",
    "\n",
    "for i in range(10):\n",
    "    lam=(np.einsum(\"kKlLmMnN,KLMN,klmn\",Ftilde,v,w)/np.einsum(\"kKlLmMnN,KLMN,klmn\",Gtilde,v,w))\n",
    "    flat=np.transpose(lam*Gtilde-Ftilde,(0,2,4,6,1,3,5,7)).reshape((3*(2*args.Nt+1)*(2*args.Nx+1)*(2*args.Ny+1),3*(2*args.Nt+1)*(2*args.Nx+1)*(2*args.Ny+1)))\n",
    "    try:\n",
    "        xi=solve(flat, np.einsum(\"kKlLmMnN,KLMN\",Gtilde,v).reshape(3*(2*args.Nt+1)*(2*args.Nx+1)*(2*args.Ny+1))).reshape(3,(2*args.Nt+1),(2*args.Nx+1),(2*args.Ny+1))\n",
    "        zeta=solve(flat.T, np.einsum(\"kKlLmMnN,klmn\",Gtilde,w).reshape(3*(2*args.Nt+1)*(2*args.Nx+1)*(2*args.Ny+1))).reshape(3,(2*args.Nt+1),(2*args.Nx+1),(2*args.Ny+1))\n",
    "        v=xi/np.linalg.norm(xi)\n",
    "        w=zeta/np.linalg.norm(zeta)\n",
    "    except LinAlgWarning:\n",
    "        print('convergence')\n",
    "        lam=(np.einsum(\"kKlLmMnN,KLMN,klmn\",Ftilde,v,w)/np.einsum(\"kKlLmMnN,KLMN,klmn\",Gtilde,v,w))\n",
    "        e1=np.linalg.norm(np.einsum(\"kKlLmMnN,KLMN\",Ftilde,v)-lam*np.einsum(\"kKlLmMnN,KLMN\",Gtilde,v))\n",
    "        e2=np.linalg.norm(np.einsum(\"kKlLmMnN,klmn\",Ftilde,w)-lam*np.einsum(\"kKlLmMnN,klmn\",Gtilde,w))\n",
    "        print(e1,e2,lam,flush=True)\n",
    "        break\n",
    "\n",
    "    e1=np.linalg.norm(np.einsum(\"kKlLmMnN,KLMN\",Ftilde,v)-lam*np.einsum(\"kKlLmMnN,KLMN\",Gtilde,v))\n",
    "    e2=np.linalg.norm(np.einsum(\"kKlLmMnN,klmn\",Ftilde,w)-lam*np.einsum(\"kKlLmMnN,klmn\",Gtilde,w))\n",
    "    print(e1,e2,lam,flush=True)\n",
    "stop=timeit.default_timer()\n",
    "print(stop-start)"
   ]
  },
  {
   "cell_type": "code",
   "execution_count": 172,
   "id": "ec34c0d9",
   "metadata": {},
   "outputs": [
    {
     "data": {
      "image/png": "[encoded data removed]",
      "text/plain": [
       "<Figure size 432x288 with 1 Axes>"
      ]
     },
     "metadata": {
      "needs_background": "light"
     },
     "output_type": "display_data"
    }
   ],
   "source": [
    "qx=0\n",
    "qy=args.k2y/2\n",
    "omega=2*np.pi*args.freq/2\n",
    "\n",
    "evalssweep=[]\n",
    "omegas=np.linspace(2*np.pi*2, 2*np.pi*10, 100)\n",
    "for omega in omegas:\n",
    "    viscid.args.freq=omega/(2*np.pi)\n",
    "    Ftilde_0,Gtilde_0=viscid.viscid_flat_mat(omega/2,qx,qy)\n",
    "    Ftildeflattened_0=np.transpose(Ftilde_0,(0,2,1,3)).reshape((3*(2*args.Nt+1),3*(2*args.Nt+1)))\n",
    "    Gtildeflattened_0=np.transpose(Gtilde_0,(0,2,1,3)).reshape((3*(2*args.Nt+1),3*(2*args.Nt+1)))\n",
    "    evals,levecs,revecs=eig(Ftildeflattened_0,Gtildeflattened_0,left=True)\n",
    "    evalssweep=evalssweep+[evals]\n",
    "plt.plot(omegas/(2*np.pi),np.real(evalssweep)/args.g,'bo')\n",
    "plt.ylim(0,3)\n",
    "plt.xlabel(r'$\\omega_d$')\n",
    "plt.ylabel('$a_d$')\n",
    "plt.show()"
   ]
  },
  {
   "cell_type": "code",
   "execution_count": null,
   "id": "0a7bcd6f",
   "metadata": {},
   "outputs": [],
   "source": []
  }
 ],
 "metadata": {
  "kernelspec": {
   "display_name": "Python 3 (ipykernel)",
   "language": "python",
   "name": "python3"
  },
  "language_info": {
   "codemirror_mode": {
    "name": "ipython",
    "version": 3
   },
   "file_extension": ".py",
   "mimetype": "text/x-python",
   "name": "python",
   "nbconvert_exporter": "python",
   "pygments_lexer": "ipython3",
   "version": "3.9.7"
  }
 },
 "nbformat": 4,
 "nbformat_minor": 5
}
